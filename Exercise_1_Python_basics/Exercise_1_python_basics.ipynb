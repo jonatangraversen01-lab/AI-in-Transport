{
  "cells": [
    {
      "cell_type": "markdown",
      "metadata": {
        "id": "br3JSUhb__P6"
      },
      "source": [
        "# Exercise - Part 2.1 - Python basics\n",
        "\n",
        "Adapted tutorial from the chapter 3 of the book:\n",
        "\n",
        "De Ponteves, H. (2019). AI Crash Course: A fun and hands-on introduction to machine learning, reinforcement learning, deep learning, and artificial intelligence with Python. Packt Publishing Ltd.\n",
        "\n",
        "You can follow original instructions from the link: [chapter 3 tutorial](https://learning.oreilly.com/library/view/ai-crash-course/9781838645359/Text/Chapter_3.xhtml#sigil_toc_id_40)\n"
      ]
    },
    {
      "cell_type": "markdown",
      "metadata": {
        "id": "Vc8sDiw2Yua0"
      },
      "source": [
        "First, let's try a simple command to display (print) text on the screen, like \"Hello world!\""
      ]
    },
    {
      "cell_type": "code",
      "execution_count": null,
      "metadata": {
        "id": "eNAVQwCvYuuZ"
      },
      "outputs": [],
      "source": [
        "print(\"Hello world!, test\")"
      ]
    },
    {
      "cell_type": "markdown",
      "metadata": {
        "id": "fE5-fCz0dIZF"
      },
      "source": [
        "In Python you can also add comments to describe what your code does or just notes for yourself, starting with '**#**' all after it is not executed as a command"
      ]
    },
    {
      "cell_type": "code",
      "execution_count": null,
      "metadata": {
        "id": "p22GVnzkB9bT"
      },
      "outputs": [],
      "source": [
        "# this is a print\n",
        "print('Hello world!') # prints Hello world!"
      ]
    },
    {
      "cell_type": "markdown",
      "metadata": {
        "id": "EH4PAQUWClRe"
      },
      "source": [
        "**Variables** pointers to values/objects allocated somewhere in the memory. By referring to that variable by defined name, the value/object is retrieved from memory, or a new value is assigned. In Python, you do not need to specify the variable's data type, which is common in languages such Java, C++."
      ]
    },
    {
      "cell_type": "code",
      "execution_count": 8,
      "metadata": {
        "id": "yuR0BC7lUttN",
        "outputId": "83658aad-e5a1-472a-befb-83f7f1ee1702",
        "colab": {
          "base_uri": "https://localhost:8080/"
        }
      },
      "outputs": [
        {
          "output_type": "execute_result",
          "data": {
            "text/plain": [
              "3"
            ]
          },
          "metadata": {},
          "execution_count": 8
        }
      ],
      "source": [
        "x = 3\n",
        "y = 5\n",
        "x"
      ]
    },
    {
      "cell_type": "markdown",
      "metadata": {
        "id": "4aJc7EKxVLqJ"
      },
      "source": [
        "Here we assign value 3 to variable 'x' and value 5 to variable 'y'. So from this point in code always, as long as you do not change the value, when you refer to variable 'x' it will have value 5 and variable 'y' the value 3"
      ]
    },
    {
      "cell_type": "code",
      "execution_count": 6,
      "metadata": {
        "colab": {
          "base_uri": "https://localhost:8080/"
        },
        "id": "mcq-0oO8VnE7",
        "outputId": "493c0247-6611-48eb-9f64-358bf44cd4b6"
      },
      "outputs": [
        {
          "output_type": "stream",
          "name": "stdout",
          "text": [
            "value in 'x' is 3\n",
            "value in 'y' is 5\n",
            "x + y = 8\n"
          ]
        }
      ],
      "source": [
        "print(f\"value in 'x' is {x}\")\n",
        "print(\"value in 'y' is\", y)\n",
        "print('x + y =', x + y)"
      ]
    },
    {
      "cell_type": "markdown",
      "metadata": {
        "id": "0Byix68yVmsk"
      },
      "source": [
        "Variables can be of different data types, such as integers (2, 3, 4, ...), Float (2.3241213, 4.21), strings (\"Hello\"), chars ('a', 'b'), and many different objects (arrays, tables, sets of data records). It simplifies your coding by referring to the same data by same-shorter-familiar-reference in the code. You do not want to specify always the array of 1000 records, especially if you will refer to them many times. What you want is to simplify your life and do it once. Thus, you may assign to a variable list of records, for example *my_input_data*"
      ]
    },
    {
      "cell_type": "markdown",
      "metadata": {
        "id": "2t63V1zEUyIj"
      },
      "source": [
        "## Lists and Arrays"
      ]
    },
    {
      "cell_type": "code",
      "execution_count": 7,
      "metadata": {
        "id": "MekjEHKKX5SV"
      },
      "outputs": [],
      "source": [
        "my_input_data = [0,1,2,3,4,5,6,7,8,9,10,11,12,13,14,15,16,17,18,19,20]"
      ]
    },
    {
      "cell_type": "markdown",
      "metadata": {
        "id": "uYA-qKxIX1i0"
      },
      "source": [
        "In Python, you can access the value at a specific index of a list by specifying an index, such as *my_input_data[0]*. Note that indexing in Python starts from 0, last object index is *my_input_data[-1]* or *my_input_data[len(my_input_data) - 1]*, where *len(my_input_data)* is the size of it."
      ]
    },
    {
      "cell_type": "code",
      "execution_count": 9,
      "metadata": {
        "colab": {
          "base_uri": "https://localhost:8080/"
        },
        "id": "PXCL7poNSYpK",
        "outputId": "e01aa53b-ccbe-416b-d09f-c0733bc0f252"
      },
      "outputs": [
        {
          "output_type": "stream",
          "name": "stdout",
          "text": [
            "first item 0\n",
            "last item 20\n",
            "last item 20\n",
            "size of list 21\n"
          ]
        }
      ],
      "source": [
        "print('first item', my_input_data[0])\n",
        "print('last item', my_input_data[-1])\n",
        "print('last item', my_input_data[len(my_input_data) - 1])\n",
        "print('size of list', len(my_input_data))"
      ]
    },
    {
      "cell_type": "markdown",
      "metadata": {
        "id": "qvT47L_VTOYH"
      },
      "source": [
        "You may add new items at the end by calling the list's *append()* function. The item can be deleted by calling the command 'del' and specifying the index."
      ]
    },
    {
      "cell_type": "code",
      "execution_count": null,
      "metadata": {
        "id": "Bv06LeG5TVXD"
      },
      "outputs": [],
      "source": [
        "my_input_data.append(21)\n",
        "del my_input_data[0]\n",
        "print(my_input_data)"
      ]
    },
    {
      "cell_type": "markdown",
      "metadata": {
        "id": "8kHuBAK6Adao"
      },
      "source": [
        "Assign value at certain position"
      ]
    },
    {
      "cell_type": "code",
      "execution_count": null,
      "metadata": {
        "id": "D0UoRzjqAdao"
      },
      "outputs": [],
      "source": [
        "my_input_data[2] = 1000\n",
        "print(my_input_data)"
      ]
    },
    {
      "cell_type": "markdown",
      "metadata": {
        "id": "qvsliHT9Utj0"
      },
      "source": [
        "## Matrices\n",
        "In this course, we will often use tables, matrices, or multidimensional matrices. For this, we use *numpy* library. The example below creates the matrix 3x3 filled by zeros."
      ]
    },
    {
      "cell_type": "code",
      "execution_count": 10,
      "metadata": {
        "colab": {
          "base_uri": "https://localhost:8080/"
        },
        "id": "N2i494-hUmQY",
        "outputId": "8d43107e-411b-41d2-c842-7ec72fcb72ec"
      },
      "outputs": [
        {
          "output_type": "stream",
          "name": "stdout",
          "text": [
            "[[0. 0. 0.]\n",
            " [0. 0. 0.]\n",
            " [0. 0. 0.]]\n"
          ]
        }
      ],
      "source": [
        "import numpy as np\n",
        "\n",
        "matrix_0 = np.zeros((3,3))\n",
        "print(matrix_0)"
      ]
    },
    {
      "cell_type": "markdown",
      "metadata": {
        "id": "6SCLjB3KU9H6"
      },
      "source": [
        "Here first index *'x'* of *matrix_0[x,y]* is for rows while second *'y'* is for column of matrix"
      ]
    },
    {
      "cell_type": "code",
      "execution_count": 11,
      "metadata": {
        "colab": {
          "base_uri": "https://localhost:8080/"
        },
        "id": "bISpdwQlWLv1",
        "outputId": "ca24c74c-eec0-48cf-adaa-91a73fbecc47"
      },
      "outputs": [
        {
          "output_type": "stream",
          "name": "stdout",
          "text": [
            "[[1. 2. 3.]\n",
            " [4. 5. 6.]\n",
            " [7. 8. 9.]]\n"
          ]
        }
      ],
      "source": [
        "matrix_0[0,0] = 1\n",
        "matrix_0[0,1] = 2\n",
        "matrix_0[0,2] = 3\n",
        "matrix_0[1,0] = 4\n",
        "matrix_0[1,1] = 5\n",
        "matrix_0[1,2] = 6\n",
        "matrix_0[2,0] = 7\n",
        "matrix_0[2,1] = 8\n",
        "matrix_0[2,2] = 9\n",
        "print(matrix_0)"
      ]
    },
    {
      "cell_type": "markdown",
      "metadata": {
        "id": "K-rMdN6GW5ZC"
      },
      "source": [
        "Below, we show the calculation of the mean. If you use some function for the first time, checking the documentation, its inputs and outputs, and validating the results is good practice: [mean function definition](https://numpy.org/doc/stable/reference/generated/numpy.mean.html)"
      ]
    },
    {
      "cell_type": "code",
      "execution_count": null,
      "metadata": {
        "id": "et1B4E4aXFj9"
      },
      "outputs": [],
      "source": [
        "matrix_mean = np.mean(matrix_0)\n",
        "matrix_min = np.min(matrix_0)\n",
        "matrix_max = np.max(matrix_0)\n",
        "\n",
        "print(f\"The mean of the matrix is {matrix_mean}\")\n",
        "print(f\"The min of the matrix is {matrix_min}\")\n",
        "print(f\"The max of the matrix is {matrix_max}\")"
      ]
    },
    {
      "cell_type": "markdown",
      "metadata": {
        "id": "YbyxnA39Y3s9"
      },
      "source": [
        "Changes and copying of objects"
      ]
    },
    {
      "cell_type": "code",
      "execution_count": 13,
      "metadata": {
        "colab": {
          "base_uri": "https://localhost:8080/"
        },
        "id": "841Jekx3ZKRA",
        "outputId": "b97b47ab-9572-487c-9b72-86e72efe2f74"
      },
      "outputs": [
        {
          "output_type": "stream",
          "name": "stdout",
          "text": [
            "matrix_0 [[ 1.  2.  3.]\n",
            " [ 4. 12.  6.]\n",
            " [ 7.  8.  9.]]\n",
            "matrix_2 [[ 1.  2.  3.]\n",
            " [ 4. 12.  6.]\n",
            " [ 7.  8.  9.]]\n",
            "matrix_0 [[ 1.  2.  3.]\n",
            " [ 4. 12.  6.]\n",
            " [ 7.  8.  9.]]\n",
            "matrix_1 [[ 1.  2.  3.]\n",
            " [ 4. nan  6.]\n",
            " [ 7.  8.  9.]]\n"
          ]
        }
      ],
      "source": [
        "matrix_1 = matrix_0.copy() # create new instance of the object which is copied\n",
        "matrix_2 = matrix_0 # using just assignment command will create only new pointer to existing object, Thus both matrix_0 and matrix_2 point to same object in memory\n",
        "matrix_2[1,1] = 12 # Thus changing the value will result in change for both matrix_0 and matrix_2 becaue they point to same object.\n",
        "print('matrix_0',matrix_0)\n",
        "print('matrix_2',matrix_2)\n",
        "matrix_1[1,1] = np.nan\n",
        "print('matrix_0',matrix_0)\n",
        "print('matrix_1',matrix_1)\n"
      ]
    },
    {
      "cell_type": "markdown",
      "metadata": {
        "id": "eQL7vurtaXuC"
      },
      "source": [
        "In case there are unknown or NaN values in dataset calling np.mean or np.min will fail or result in NaN."
      ]
    },
    {
      "cell_type": "code",
      "execution_count": 14,
      "metadata": {
        "colab": {
          "base_uri": "https://localhost:8080/"
        },
        "id": "sIHTrhTXanNj",
        "outputId": "556bfdc5-2059-40ff-e752-a69d00cb129a"
      },
      "outputs": [
        {
          "output_type": "stream",
          "name": "stdout",
          "text": [
            "nan\n"
          ]
        }
      ],
      "source": [
        "print(np.mean(matrix_1))"
      ]
    },
    {
      "cell_type": "markdown",
      "metadata": {
        "id": "zzEG-7a8Adar"
      },
      "source": [
        "An alternative to still calculate a mean value with the remaining values is:"
      ]
    },
    {
      "cell_type": "code",
      "execution_count": 15,
      "metadata": {
        "id": "E9v2328KAdar",
        "outputId": "34290046-f30f-4d1d-f689-5a87cb8043cc",
        "colab": {
          "base_uri": "https://localhost:8080/"
        }
      },
      "outputs": [
        {
          "output_type": "stream",
          "name": "stdout",
          "text": [
            "5.0\n"
          ]
        }
      ],
      "source": [
        "print(np.nanmean(matrix_1))"
      ]
    },
    {
      "cell_type": "markdown",
      "metadata": {
        "id": "8cFITJTdbH4K"
      },
      "source": [
        "Is there any nan value in matrix? use np.isnan()"
      ]
    },
    {
      "cell_type": "code",
      "execution_count": 16,
      "metadata": {
        "colab": {
          "base_uri": "https://localhost:8080/"
        },
        "id": "4pQBl-rPbWAS",
        "outputId": "838431f5-4ef4-482d-dc5f-e5378a5414a5"
      },
      "outputs": [
        {
          "output_type": "stream",
          "name": "stdout",
          "text": [
            "[[False False False]\n",
            " [False  True False]\n",
            " [False False False]]\n"
          ]
        }
      ],
      "source": [
        "print(np.isnan(matrix_1))"
      ]
    },
    {
      "cell_type": "markdown",
      "metadata": {
        "id": "nWSu0MxTbbWk"
      },
      "source": [
        "Count them with *np.sum*. Boolean values such True or False they are actully also intepretable as integers: 1:True and 0:False so you can count them."
      ]
    },
    {
      "cell_type": "code",
      "execution_count": 17,
      "metadata": {
        "colab": {
          "base_uri": "https://localhost:8080/"
        },
        "id": "CGpdiXiQbgYP",
        "outputId": "50a9c080-4dce-44dd-b5a2-28aa64f9edb7"
      },
      "outputs": [
        {
          "output_type": "stream",
          "name": "stdout",
          "text": [
            "1\n"
          ]
        }
      ],
      "source": [
        "print(np.sum(np.isnan(matrix_1)))"
      ]
    },
    {
      "cell_type": "markdown",
      "metadata": {
        "id": "e1aLfCjLbokT"
      },
      "source": [
        "## Constraints IF"
      ]
    },
    {
      "cell_type": "markdown",
      "metadata": {
        "id": "T_13aBeDbsyb"
      },
      "source": [
        "Help to branch the code based on logical statements ('AND' and 'OR' and their combinations). For example, if there is a NaN value in the dataset, use a different function to calculate the mean."
      ]
    },
    {
      "cell_type": "code",
      "execution_count": 18,
      "metadata": {
        "colab": {
          "base_uri": "https://localhost:8080/"
        },
        "id": "rwdM_kp2b9Fo",
        "outputId": "a5466966-1507-4f87-df10-20696b1b63c8"
      },
      "outputs": [
        {
          "output_type": "stream",
          "name": "stdout",
          "text": [
            "there is nan value, np.nanmean calculated 5.0\n"
          ]
        }
      ],
      "source": [
        "if np.sum(np.isnan(matrix_1)) > 0:\n",
        "  print('there is nan value, np.nanmean calculated',np.nanmean(matrix_1))\n",
        "else:\n",
        " print('there is no nan value, np.mean calculated',np.mean(matrix_1))"
      ]
    },
    {
      "cell_type": "markdown",
      "metadata": {
        "id": "Cw7uroyUcXYN"
      },
      "source": [
        "Another example with more conditions and multiple cases:"
      ]
    },
    {
      "cell_type": "code",
      "execution_count": 19,
      "metadata": {
        "colab": {
          "base_uri": "https://localhost:8080/"
        },
        "id": "rKY3sSg4cqME",
        "outputId": "62534575-ad60-462b-b030-0194acc0087d"
      },
      "outputs": [
        {
          "output_type": "stream",
          "name": "stdout",
          "text": [
            "there is a nan value and the mean is less than 6\n"
          ]
        }
      ],
      "source": [
        "if np.sum(np.isnan(matrix_1)) == 0:\n",
        "  print('there is no nan value, mean is: ',np.mean(matrix_1))\n",
        "elif np.sum(np.isnan(matrix_1)) > 0 and np.nanmean(matrix_1) < 6:\n",
        "  print('there is a nan value and the mean is less than 6')\n",
        "else:\n",
        "  print('there is a nan value and the mean is greater than or equal to 6')"
      ]
    },
    {
      "cell_type": "markdown",
      "metadata": {
        "id": "POu2opiFdix7"
      },
      "source": [
        "## Creating functions\n",
        "You can create your function to simplify scripts and lower repetitions. If some operations consist of blocks of several lines and would be repeated frequently, the recommended practice is to write the function once and call it when needed. For example, lets define a function for calculating the mean with nan or without nan values."
      ]
    },
    {
      "cell_type": "markdown",
      "metadata": {
        "id": "ml7cMxTke4nV"
      },
      "source": [
        "using above constraints this is how code for calcuting mean for *matrix_0*, *matrix_1*, and *matrix_2* will look:"
      ]
    },
    {
      "cell_type": "code",
      "execution_count": 20,
      "metadata": {
        "colab": {
          "base_uri": "https://localhost:8080/"
        },
        "id": "4NQuXznafAwW",
        "outputId": "e6665be6-cb54-4cd3-9169-89d46bcdfcb5"
      },
      "outputs": [
        {
          "output_type": "stream",
          "name": "stdout",
          "text": [
            "there is no nan value, np.mean calculated 5.777777777777778\n",
            "there is nan value, np.nanmean calculated 5.0\n",
            "there is no nan value, np.mean calculated 5.777777777777778\n"
          ]
        }
      ],
      "source": [
        "if np.sum(np.isnan(matrix_0)) > 0:\n",
        "  print('there is nan value, np.nanmean calculated',np.nanmean(matrix_0))\n",
        "else:\n",
        " print('there is no nan value, np.mean calculated',np.mean(matrix_0))\n",
        "\n",
        "if np.sum(np.isnan(matrix_1)) > 0:\n",
        "  print('there is nan value, np.nanmean calculated',np.nanmean(matrix_1))\n",
        "else:\n",
        " print('there is no nan value, np.mean calculated',np.mean(matrix_1))\n",
        "\n",
        "if np.sum(np.isnan(matrix_2)) > 0:\n",
        "  print('there is nan value, np.nanmean calculated',np.nanmean(matrix_2))\n",
        "else:\n",
        " print('there is no nan value, np.mean calculated',np.mean(matrix_2))"
      ]
    },
    {
      "cell_type": "markdown",
      "metadata": {
        "id": "HFNY041WfMLR"
      },
      "source": [
        "Or it can be simplify with calling defined function *calculate_mean*"
      ]
    },
    {
      "cell_type": "code",
      "execution_count": 21,
      "metadata": {
        "colab": {
          "base_uri": "https://localhost:8080/"
        },
        "id": "aDZRtbh7eGT4",
        "outputId": "b9185b46-e84a-4585-86fa-8282d1d7aa01"
      },
      "outputs": [
        {
          "output_type": "stream",
          "name": "stdout",
          "text": [
            "there is no nan value, np.mean calculated 5.777777777777778\n",
            "there is nan value, np.nanmean calculated 5.0\n",
            "there is no nan value, np.mean calculated 5.777777777777778\n"
          ]
        }
      ],
      "source": [
        "def calculate_mean(input_matrix):\n",
        "  if np.nansum(np.isnan(input_matrix)) > 0:\n",
        "    print('there is nan value, np.nanmean calculated',np.nanmean(input_matrix))\n",
        "  else:\n",
        "    print('there is no nan value, np.mean calculated',np.mean(input_matrix))\n",
        "\n",
        "calculate_mean(matrix_0)\n",
        "calculate_mean(matrix_1)\n",
        "calculate_mean(matrix_2)"
      ]
    },
    {
      "cell_type": "markdown",
      "metadata": {
        "id": "ep49i02Wen1b"
      },
      "source": [
        "So in this case you can just call function *calculate_mean* and simplify your code"
      ]
    },
    {
      "cell_type": "markdown",
      "metadata": {
        "id": "Xfeih-hFbB1O"
      },
      "source": [
        "## Loops\n",
        "These are tools that enable you to iterate across arrays and matrices. For example, we show two different ways of looping with the command *'for'* and print the values of the first row:"
      ]
    },
    {
      "cell_type": "code",
      "execution_count": 22,
      "metadata": {
        "colab": {
          "base_uri": "https://localhost:8080/"
        },
        "id": "RmIU24MEgWc1",
        "outputId": "5533472b-f46d-4a64-fc56-1b453c522de0"
      },
      "outputs": [
        {
          "output_type": "stream",
          "name": "stdout",
          "text": [
            "In the first row the value for column  1 1.0\n",
            "In the first row the value for column  2 2.0\n",
            "In the first row the value for column  3 3.0\n"
          ]
        }
      ],
      "source": [
        "for i in range(0, len(matrix_0[0])):\n",
        "  print('In the first row the value for column ',i+1, matrix_0[0, i])"
      ]
    },
    {
      "cell_type": "code",
      "execution_count": null,
      "metadata": {
        "id": "OqNwyc96hVza"
      },
      "outputs": [],
      "source": [
        "print(matrix_0)\n",
        "first_row_in_matrix_0 = matrix_0[0]\n",
        "i = 1\n",
        "for value_i in first_row_in_matrix_0:\n",
        "  print('In the first row the value for column ', i, value_i)\n",
        "  i +=1"
      ]
    },
    {
      "cell_type": "markdown",
      "metadata": {
        "id": "3gTqyYVVAdau"
      },
      "source": [
        "# Exercise - Part 2.2. - Loading and Exploring External Data\n",
        "\n",
        "In this part we will load an external data set from a CSV file, explore it with the Python library *pandas* and plot parts of it with the librarby *mathplotlib*."
      ]
    },
    {
      "cell_type": "markdown",
      "metadata": {
        "id": "EQHmLJ_pAdau"
      },
      "source": [
        "## Load data with Pandas"
      ]
    },
    {
      "cell_type": "markdown",
      "metadata": {
        "id": "TMSlO1agAdau"
      },
      "source": [
        "Load the library pandas"
      ]
    },
    {
      "cell_type": "code",
      "execution_count": 23,
      "metadata": {
        "id": "rX25r9IbAdau"
      },
      "outputs": [],
      "source": [
        "import pandas as pd"
      ]
    },
    {
      "cell_type": "markdown",
      "metadata": {
        "id": "M8CIqwTrAdav"
      },
      "source": [
        "Load the dataset in a pandas DataFrame (similar to a Numpy matrix but offers more functionality)"
      ]
    },
    {
      "cell_type": "code",
      "execution_count": 25,
      "metadata": {
        "id": "WYZO_hdVAdav"
      },
      "outputs": [],
      "source": [
        "df = pd.read_csv('Exercise2BusData.csv')"
      ]
    },
    {
      "cell_type": "markdown",
      "metadata": {
        "id": "T6GwOg3wAdav"
      },
      "source": [
        "If you are not able to upload the data to colab, you can uncommment these lines:"
      ]
    },
    {
      "cell_type": "code",
      "execution_count": null,
      "metadata": {
        "id": "nCQ2xE6RAdav"
      },
      "outputs": [],
      "source": [
        "# url = 'https://raw.githubusercontent.com/zhenliangma/Applied-AI-in-Transportation/master/Exercise_2_regression_model/Exercise2BusData.csv'\n",
        "# df = pd.read_csv(url)"
      ]
    },
    {
      "cell_type": "markdown",
      "metadata": {
        "id": "NZxzyeUvAdav"
      },
      "source": [
        "Exploring the columns and 10 first rows of the DataFrame:"
      ]
    },
    {
      "cell_type": "code",
      "execution_count": 26,
      "metadata": {
        "id": "babwCTsaAdav",
        "outputId": "08270ef9-462a-4dda-ef16-6558334b3793",
        "colab": {
          "base_uri": "https://localhost:8080/",
          "height": 556
        }
      },
      "outputs": [
        {
          "output_type": "execute_result",
          "data": {
            "text/plain": [
              "       Arrival_time  Stop_id  Bus_id  Line_id  Arrival_delay  Dwell_time  \\\n",
              "0  01/05/2022 07:03    10033   41355        1            -23           0   \n",
              "1  01/05/2022 07:21    10033   41356        1            168           0   \n",
              "2  01/05/2022 07:37    10033   44400        1            231           0   \n",
              "3  01/05/2022 07:50    10033   44399        1            150          17   \n",
              "4  01/05/2022 19:29    10033   44060        1            965          35   \n",
              "5  01/05/2022 19:58    10033   41351        1             33          19   \n",
              "6  01/05/2022 20:14    10033   44399        1             75          26   \n",
              "7  01/05/2022 20:28    10033   41356        1             58          15   \n",
              "8  01/05/2022 20:57    10033   44060        1            904          35   \n",
              "9  01/05/2022 21:00    10033   41357        1            141          12   \n",
              "\n",
              "   Scheduled_travel_time  Upstream_stop_delay  Recurrent_delay  \n",
              "0                     39                   -4        28.641509  \n",
              "1                     39                  181        27.880597  \n",
              "2                     39                  244        27.852941  \n",
              "3                     39                  143        27.826087  \n",
              "4                     51                  947        42.029412  \n",
              "5                     46                   30        38.970588  \n",
              "6                     46                   63        38.840580  \n",
              "7                     46                   52        34.059701  \n",
              "8                     46                  888        34.102941  \n",
              "9                     46                  140        34.000000  "
            ],
            "text/html": [
              "\n",
              "  <div id=\"df-a7ccc543-6efe-43d1-b402-d87f59cdb6a5\" class=\"colab-df-container\">\n",
              "    <div>\n",
              "<style scoped>\n",
              "    .dataframe tbody tr th:only-of-type {\n",
              "        vertical-align: middle;\n",
              "    }\n",
              "\n",
              "    .dataframe tbody tr th {\n",
              "        vertical-align: top;\n",
              "    }\n",
              "\n",
              "    .dataframe thead th {\n",
              "        text-align: right;\n",
              "    }\n",
              "</style>\n",
              "<table border=\"1\" class=\"dataframe\">\n",
              "  <thead>\n",
              "    <tr style=\"text-align: right;\">\n",
              "      <th></th>\n",
              "      <th>Arrival_time</th>\n",
              "      <th>Stop_id</th>\n",
              "      <th>Bus_id</th>\n",
              "      <th>Line_id</th>\n",
              "      <th>Arrival_delay</th>\n",
              "      <th>Dwell_time</th>\n",
              "      <th>Scheduled_travel_time</th>\n",
              "      <th>Upstream_stop_delay</th>\n",
              "      <th>Recurrent_delay</th>\n",
              "    </tr>\n",
              "  </thead>\n",
              "  <tbody>\n",
              "    <tr>\n",
              "      <th>0</th>\n",
              "      <td>01/05/2022 07:03</td>\n",
              "      <td>10033</td>\n",
              "      <td>41355</td>\n",
              "      <td>1</td>\n",
              "      <td>-23</td>\n",
              "      <td>0</td>\n",
              "      <td>39</td>\n",
              "      <td>-4</td>\n",
              "      <td>28.641509</td>\n",
              "    </tr>\n",
              "    <tr>\n",
              "      <th>1</th>\n",
              "      <td>01/05/2022 07:21</td>\n",
              "      <td>10033</td>\n",
              "      <td>41356</td>\n",
              "      <td>1</td>\n",
              "      <td>168</td>\n",
              "      <td>0</td>\n",
              "      <td>39</td>\n",
              "      <td>181</td>\n",
              "      <td>27.880597</td>\n",
              "    </tr>\n",
              "    <tr>\n",
              "      <th>2</th>\n",
              "      <td>01/05/2022 07:37</td>\n",
              "      <td>10033</td>\n",
              "      <td>44400</td>\n",
              "      <td>1</td>\n",
              "      <td>231</td>\n",
              "      <td>0</td>\n",
              "      <td>39</td>\n",
              "      <td>244</td>\n",
              "      <td>27.852941</td>\n",
              "    </tr>\n",
              "    <tr>\n",
              "      <th>3</th>\n",
              "      <td>01/05/2022 07:50</td>\n",
              "      <td>10033</td>\n",
              "      <td>44399</td>\n",
              "      <td>1</td>\n",
              "      <td>150</td>\n",
              "      <td>17</td>\n",
              "      <td>39</td>\n",
              "      <td>143</td>\n",
              "      <td>27.826087</td>\n",
              "    </tr>\n",
              "    <tr>\n",
              "      <th>4</th>\n",
              "      <td>01/05/2022 19:29</td>\n",
              "      <td>10033</td>\n",
              "      <td>44060</td>\n",
              "      <td>1</td>\n",
              "      <td>965</td>\n",
              "      <td>35</td>\n",
              "      <td>51</td>\n",
              "      <td>947</td>\n",
              "      <td>42.029412</td>\n",
              "    </tr>\n",
              "    <tr>\n",
              "      <th>5</th>\n",
              "      <td>01/05/2022 19:58</td>\n",
              "      <td>10033</td>\n",
              "      <td>41351</td>\n",
              "      <td>1</td>\n",
              "      <td>33</td>\n",
              "      <td>19</td>\n",
              "      <td>46</td>\n",
              "      <td>30</td>\n",
              "      <td>38.970588</td>\n",
              "    </tr>\n",
              "    <tr>\n",
              "      <th>6</th>\n",
              "      <td>01/05/2022 20:14</td>\n",
              "      <td>10033</td>\n",
              "      <td>44399</td>\n",
              "      <td>1</td>\n",
              "      <td>75</td>\n",
              "      <td>26</td>\n",
              "      <td>46</td>\n",
              "      <td>63</td>\n",
              "      <td>38.840580</td>\n",
              "    </tr>\n",
              "    <tr>\n",
              "      <th>7</th>\n",
              "      <td>01/05/2022 20:28</td>\n",
              "      <td>10033</td>\n",
              "      <td>41356</td>\n",
              "      <td>1</td>\n",
              "      <td>58</td>\n",
              "      <td>15</td>\n",
              "      <td>46</td>\n",
              "      <td>52</td>\n",
              "      <td>34.059701</td>\n",
              "    </tr>\n",
              "    <tr>\n",
              "      <th>8</th>\n",
              "      <td>01/05/2022 20:57</td>\n",
              "      <td>10033</td>\n",
              "      <td>44060</td>\n",
              "      <td>1</td>\n",
              "      <td>904</td>\n",
              "      <td>35</td>\n",
              "      <td>46</td>\n",
              "      <td>888</td>\n",
              "      <td>34.102941</td>\n",
              "    </tr>\n",
              "    <tr>\n",
              "      <th>9</th>\n",
              "      <td>01/05/2022 21:00</td>\n",
              "      <td>10033</td>\n",
              "      <td>41357</td>\n",
              "      <td>1</td>\n",
              "      <td>141</td>\n",
              "      <td>12</td>\n",
              "      <td>46</td>\n",
              "      <td>140</td>\n",
              "      <td>34.000000</td>\n",
              "    </tr>\n",
              "  </tbody>\n",
              "</table>\n",
              "</div>\n",
              "    <div class=\"colab-df-buttons\">\n",
              "\n",
              "  <div class=\"colab-df-container\">\n",
              "    <button class=\"colab-df-convert\" onclick=\"convertToInteractive('df-a7ccc543-6efe-43d1-b402-d87f59cdb6a5')\"\n",
              "            title=\"Convert this dataframe to an interactive table.\"\n",
              "            style=\"display:none;\">\n",
              "\n",
              "  <svg xmlns=\"http://www.w3.org/2000/svg\" height=\"24px\" viewBox=\"0 -960 960 960\">\n",
              "    <path d=\"M120-120v-720h720v720H120Zm60-500h600v-160H180v160Zm220 220h160v-160H400v160Zm0 220h160v-160H400v160ZM180-400h160v-160H180v160Zm440 0h160v-160H620v160ZM180-180h160v-160H180v160Zm440 0h160v-160H620v160Z\"/>\n",
              "  </svg>\n",
              "    </button>\n",
              "\n",
              "  <style>\n",
              "    .colab-df-container {\n",
              "      display:flex;\n",
              "      gap: 12px;\n",
              "    }\n",
              "\n",
              "    .colab-df-convert {\n",
              "      background-color: #E8F0FE;\n",
              "      border: none;\n",
              "      border-radius: 50%;\n",
              "      cursor: pointer;\n",
              "      display: none;\n",
              "      fill: #1967D2;\n",
              "      height: 32px;\n",
              "      padding: 0 0 0 0;\n",
              "      width: 32px;\n",
              "    }\n",
              "\n",
              "    .colab-df-convert:hover {\n",
              "      background-color: #E2EBFA;\n",
              "      box-shadow: 0px 1px 2px rgba(60, 64, 67, 0.3), 0px 1px 3px 1px rgba(60, 64, 67, 0.15);\n",
              "      fill: #174EA6;\n",
              "    }\n",
              "\n",
              "    .colab-df-buttons div {\n",
              "      margin-bottom: 4px;\n",
              "    }\n",
              "\n",
              "    [theme=dark] .colab-df-convert {\n",
              "      background-color: #3B4455;\n",
              "      fill: #D2E3FC;\n",
              "    }\n",
              "\n",
              "    [theme=dark] .colab-df-convert:hover {\n",
              "      background-color: #434B5C;\n",
              "      box-shadow: 0px 1px 3px 1px rgba(0, 0, 0, 0.15);\n",
              "      filter: drop-shadow(0px 1px 2px rgba(0, 0, 0, 0.3));\n",
              "      fill: #FFFFFF;\n",
              "    }\n",
              "  </style>\n",
              "\n",
              "    <script>\n",
              "      const buttonEl =\n",
              "        document.querySelector('#df-a7ccc543-6efe-43d1-b402-d87f59cdb6a5 button.colab-df-convert');\n",
              "      buttonEl.style.display =\n",
              "        google.colab.kernel.accessAllowed ? 'block' : 'none';\n",
              "\n",
              "      async function convertToInteractive(key) {\n",
              "        const element = document.querySelector('#df-a7ccc543-6efe-43d1-b402-d87f59cdb6a5');\n",
              "        const dataTable =\n",
              "          await google.colab.kernel.invokeFunction('convertToInteractive',\n",
              "                                                    [key], {});\n",
              "        if (!dataTable) return;\n",
              "\n",
              "        const docLinkHtml = 'Like what you see? Visit the ' +\n",
              "          '<a target=\"_blank\" href=https://colab.research.google.com/notebooks/data_table.ipynb>data table notebook</a>'\n",
              "          + ' to learn more about interactive tables.';\n",
              "        element.innerHTML = '';\n",
              "        dataTable['output_type'] = 'display_data';\n",
              "        await google.colab.output.renderOutput(dataTable, element);\n",
              "        const docLink = document.createElement('div');\n",
              "        docLink.innerHTML = docLinkHtml;\n",
              "        element.appendChild(docLink);\n",
              "      }\n",
              "    </script>\n",
              "  </div>\n",
              "\n",
              "\n",
              "    <div id=\"df-58de29f8-880f-4198-b111-0d96908bf641\">\n",
              "      <button class=\"colab-df-quickchart\" onclick=\"quickchart('df-58de29f8-880f-4198-b111-0d96908bf641')\"\n",
              "                title=\"Suggest charts\"\n",
              "                style=\"display:none;\">\n",
              "\n",
              "<svg xmlns=\"http://www.w3.org/2000/svg\" height=\"24px\"viewBox=\"0 0 24 24\"\n",
              "     width=\"24px\">\n",
              "    <g>\n",
              "        <path d=\"M19 3H5c-1.1 0-2 .9-2 2v14c0 1.1.9 2 2 2h14c1.1 0 2-.9 2-2V5c0-1.1-.9-2-2-2zM9 17H7v-7h2v7zm4 0h-2V7h2v10zm4 0h-2v-4h2v4z\"/>\n",
              "    </g>\n",
              "</svg>\n",
              "      </button>\n",
              "\n",
              "<style>\n",
              "  .colab-df-quickchart {\n",
              "      --bg-color: #E8F0FE;\n",
              "      --fill-color: #1967D2;\n",
              "      --hover-bg-color: #E2EBFA;\n",
              "      --hover-fill-color: #174EA6;\n",
              "      --disabled-fill-color: #AAA;\n",
              "      --disabled-bg-color: #DDD;\n",
              "  }\n",
              "\n",
              "  [theme=dark] .colab-df-quickchart {\n",
              "      --bg-color: #3B4455;\n",
              "      --fill-color: #D2E3FC;\n",
              "      --hover-bg-color: #434B5C;\n",
              "      --hover-fill-color: #FFFFFF;\n",
              "      --disabled-bg-color: #3B4455;\n",
              "      --disabled-fill-color: #666;\n",
              "  }\n",
              "\n",
              "  .colab-df-quickchart {\n",
              "    background-color: var(--bg-color);\n",
              "    border: none;\n",
              "    border-radius: 50%;\n",
              "    cursor: pointer;\n",
              "    display: none;\n",
              "    fill: var(--fill-color);\n",
              "    height: 32px;\n",
              "    padding: 0;\n",
              "    width: 32px;\n",
              "  }\n",
              "\n",
              "  .colab-df-quickchart:hover {\n",
              "    background-color: var(--hover-bg-color);\n",
              "    box-shadow: 0 1px 2px rgba(60, 64, 67, 0.3), 0 1px 3px 1px rgba(60, 64, 67, 0.15);\n",
              "    fill: var(--button-hover-fill-color);\n",
              "  }\n",
              "\n",
              "  .colab-df-quickchart-complete:disabled,\n",
              "  .colab-df-quickchart-complete:disabled:hover {\n",
              "    background-color: var(--disabled-bg-color);\n",
              "    fill: var(--disabled-fill-color);\n",
              "    box-shadow: none;\n",
              "  }\n",
              "\n",
              "  .colab-df-spinner {\n",
              "    border: 2px solid var(--fill-color);\n",
              "    border-color: transparent;\n",
              "    border-bottom-color: var(--fill-color);\n",
              "    animation:\n",
              "      spin 1s steps(1) infinite;\n",
              "  }\n",
              "\n",
              "  @keyframes spin {\n",
              "    0% {\n",
              "      border-color: transparent;\n",
              "      border-bottom-color: var(--fill-color);\n",
              "      border-left-color: var(--fill-color);\n",
              "    }\n",
              "    20% {\n",
              "      border-color: transparent;\n",
              "      border-left-color: var(--fill-color);\n",
              "      border-top-color: var(--fill-color);\n",
              "    }\n",
              "    30% {\n",
              "      border-color: transparent;\n",
              "      border-left-color: var(--fill-color);\n",
              "      border-top-color: var(--fill-color);\n",
              "      border-right-color: var(--fill-color);\n",
              "    }\n",
              "    40% {\n",
              "      border-color: transparent;\n",
              "      border-right-color: var(--fill-color);\n",
              "      border-top-color: var(--fill-color);\n",
              "    }\n",
              "    60% {\n",
              "      border-color: transparent;\n",
              "      border-right-color: var(--fill-color);\n",
              "    }\n",
              "    80% {\n",
              "      border-color: transparent;\n",
              "      border-right-color: var(--fill-color);\n",
              "      border-bottom-color: var(--fill-color);\n",
              "    }\n",
              "    90% {\n",
              "      border-color: transparent;\n",
              "      border-bottom-color: var(--fill-color);\n",
              "    }\n",
              "  }\n",
              "</style>\n",
              "\n",
              "      <script>\n",
              "        async function quickchart(key) {\n",
              "          const quickchartButtonEl =\n",
              "            document.querySelector('#' + key + ' button');\n",
              "          quickchartButtonEl.disabled = true;  // To prevent multiple clicks.\n",
              "          quickchartButtonEl.classList.add('colab-df-spinner');\n",
              "          try {\n",
              "            const charts = await google.colab.kernel.invokeFunction(\n",
              "                'suggestCharts', [key], {});\n",
              "          } catch (error) {\n",
              "            console.error('Error during call to suggestCharts:', error);\n",
              "          }\n",
              "          quickchartButtonEl.classList.remove('colab-df-spinner');\n",
              "          quickchartButtonEl.classList.add('colab-df-quickchart-complete');\n",
              "        }\n",
              "        (() => {\n",
              "          let quickchartButtonEl =\n",
              "            document.querySelector('#df-58de29f8-880f-4198-b111-0d96908bf641 button');\n",
              "          quickchartButtonEl.style.display =\n",
              "            google.colab.kernel.accessAllowed ? 'block' : 'none';\n",
              "        })();\n",
              "      </script>\n",
              "    </div>\n",
              "\n",
              "    </div>\n",
              "  </div>\n"
            ],
            "application/vnd.google.colaboratory.intrinsic+json": {
              "type": "dataframe",
              "variable_name": "df",
              "summary": "{\n  \"name\": \"df\",\n  \"rows\": 2179,\n  \"fields\": [\n    {\n      \"column\": \"Arrival_time\",\n      \"properties\": {\n        \"dtype\": \"string\",\n        \"num_unique_values\": 2160,\n        \"samples\": [\n          \"28/05/2022 19:16\",\n          \"09/05/2022 22:13\",\n          \"28/05/2022 18:12\"\n        ],\n        \"semantic_type\": \"\",\n        \"description\": \"\"\n      }\n    },\n    {\n      \"column\": \"Stop_id\",\n      \"properties\": {\n        \"dtype\": \"number\",\n        \"std\": 0,\n        \"min\": 10033,\n        \"max\": 10033,\n        \"num_unique_values\": 1,\n        \"samples\": [\n          10033\n        ],\n        \"semantic_type\": \"\",\n        \"description\": \"\"\n      }\n    },\n    {\n      \"column\": \"Bus_id\",\n      \"properties\": {\n        \"dtype\": \"number\",\n        \"std\": 1246,\n        \"min\": 41343,\n        \"max\": 45917,\n        \"num_unique_values\": 69,\n        \"samples\": [\n          44066\n        ],\n        \"semantic_type\": \"\",\n        \"description\": \"\"\n      }\n    },\n    {\n      \"column\": \"Line_id\",\n      \"properties\": {\n        \"dtype\": \"number\",\n        \"std\": 0,\n        \"min\": 1,\n        \"max\": 1,\n        \"num_unique_values\": 1,\n        \"samples\": [\n          1\n        ],\n        \"semantic_type\": \"\",\n        \"description\": \"\"\n      }\n    },\n    {\n      \"column\": \"Arrival_delay\",\n      \"properties\": {\n        \"dtype\": \"number\",\n        \"std\": 181,\n        \"min\": -72,\n        \"max\": 1365,\n        \"num_unique_values\": 627,\n        \"samples\": [\n          389\n        ],\n        \"semantic_type\": \"\",\n        \"description\": \"\"\n      }\n    },\n    {\n      \"column\": \"Dwell_time\",\n      \"properties\": {\n        \"dtype\": \"number\",\n        \"std\": 14,\n        \"min\": 0,\n        \"max\": 132,\n        \"num_unique_values\": 87,\n        \"samples\": [\n          74\n        ],\n        \"semantic_type\": \"\",\n        \"description\": \"\"\n      }\n    },\n    {\n      \"column\": \"Scheduled_travel_time\",\n      \"properties\": {\n        \"dtype\": \"number\",\n        \"std\": 7,\n        \"min\": 39,\n        \"max\": 103,\n        \"num_unique_values\": 7,\n        \"samples\": [\n          39\n        ],\n        \"semantic_type\": \"\",\n        \"description\": \"\"\n      }\n    },\n    {\n      \"column\": \"Upstream_stop_delay\",\n      \"properties\": {\n        \"dtype\": \"number\",\n        \"std\": 177,\n        \"min\": -82,\n        \"max\": 1364,\n        \"num_unique_values\": 615,\n        \"samples\": [\n          168\n        ],\n        \"semantic_type\": \"\",\n        \"description\": \"\"\n      }\n    },\n    {\n      \"column\": \"Recurrent_delay\",\n      \"properties\": {\n        \"dtype\": \"number\",\n        \"std\": 6.517437124591716,\n        \"min\": 27.60526316,\n        \"max\": 54.49264706,\n        \"num_unique_values\": 2141,\n        \"samples\": [\n          54.22981366\n        ],\n        \"semantic_type\": \"\",\n        \"description\": \"\"\n      }\n    }\n  ]\n}"
            }
          },
          "metadata": {},
          "execution_count": 26
        }
      ],
      "source": [
        "df.head(10)"
      ]
    },
    {
      "cell_type": "markdown",
      "metadata": {
        "id": "FrpP4P65Adav"
      },
      "source": [
        "## Selecting specific entries\n",
        "\n",
        "For example, we might be interested in all entries which were to early:"
      ]
    },
    {
      "cell_type": "code",
      "execution_count": 27,
      "metadata": {
        "id": "_1sJOORkAdaw",
        "outputId": "885f6820-71e2-4ffa-d4f1-3c877da24138",
        "colab": {
          "base_uri": "https://localhost:8080/",
          "height": 617
        }
      },
      "outputs": [
        {
          "output_type": "execute_result",
          "data": {
            "text/plain": [
              "          Arrival_time  Stop_id  Bus_id  Line_id  Arrival_delay  Dwell_time  \\\n",
              "0     01/05/2022 07:03    10033   41355        1            -23           0   \n",
              "21    02/05/2022 07:25    10033   41373        1            -14          17   \n",
              "22    02/05/2022 07:32    10033   44058        1            -30          16   \n",
              "28    02/05/2022 10:07    10033   44399        1            -50          16   \n",
              "74    02/05/2022 17:12    10033   44399        1             -1          37   \n",
              "...                ...      ...     ...      ...            ...         ...   \n",
              "1856  25/05/2022 20:36    10033   42622        1            -20          12   \n",
              "1941  27/05/2022 07:24    10033   41360        1            -44          12   \n",
              "1943  27/05/2022 07:40    10033   44066        1            -31           0   \n",
              "1957  27/05/2022 09:49    10033   41351        1            -33           0   \n",
              "2133  29/05/2022 12:41    10033   41368        1            -11          15   \n",
              "\n",
              "      Scheduled_travel_time  Upstream_stop_delay  Recurrent_delay  \n",
              "0                        39                   -4        28.641509  \n",
              "21                       57                  -13        37.438596  \n",
              "22                       57                  -22        47.592000  \n",
              "28                       62                  -43        49.142857  \n",
              "74                       68                  -17        53.342282  \n",
              "...                     ...                  ...              ...  \n",
              "1856                     51                  -12        39.191667  \n",
              "1941                     57                  -35        38.187050  \n",
              "1943                     57                    1        47.856209  \n",
              "1957                     62                    0        48.222222  \n",
              "2133                     57                    1        47.016949  \n",
              "\n",
              "[66 rows x 9 columns]"
            ],
            "text/html": [
              "\n",
              "  <div id=\"df-b459ee5a-b41b-4ee2-87f9-54004c04f133\" class=\"colab-df-container\">\n",
              "    <div>\n",
              "<style scoped>\n",
              "    .dataframe tbody tr th:only-of-type {\n",
              "        vertical-align: middle;\n",
              "    }\n",
              "\n",
              "    .dataframe tbody tr th {\n",
              "        vertical-align: top;\n",
              "    }\n",
              "\n",
              "    .dataframe thead th {\n",
              "        text-align: right;\n",
              "    }\n",
              "</style>\n",
              "<table border=\"1\" class=\"dataframe\">\n",
              "  <thead>\n",
              "    <tr style=\"text-align: right;\">\n",
              "      <th></th>\n",
              "      <th>Arrival_time</th>\n",
              "      <th>Stop_id</th>\n",
              "      <th>Bus_id</th>\n",
              "      <th>Line_id</th>\n",
              "      <th>Arrival_delay</th>\n",
              "      <th>Dwell_time</th>\n",
              "      <th>Scheduled_travel_time</th>\n",
              "      <th>Upstream_stop_delay</th>\n",
              "      <th>Recurrent_delay</th>\n",
              "    </tr>\n",
              "  </thead>\n",
              "  <tbody>\n",
              "    <tr>\n",
              "      <th>0</th>\n",
              "      <td>01/05/2022 07:03</td>\n",
              "      <td>10033</td>\n",
              "      <td>41355</td>\n",
              "      <td>1</td>\n",
              "      <td>-23</td>\n",
              "      <td>0</td>\n",
              "      <td>39</td>\n",
              "      <td>-4</td>\n",
              "      <td>28.641509</td>\n",
              "    </tr>\n",
              "    <tr>\n",
              "      <th>21</th>\n",
              "      <td>02/05/2022 07:25</td>\n",
              "      <td>10033</td>\n",
              "      <td>41373</td>\n",
              "      <td>1</td>\n",
              "      <td>-14</td>\n",
              "      <td>17</td>\n",
              "      <td>57</td>\n",
              "      <td>-13</td>\n",
              "      <td>37.438596</td>\n",
              "    </tr>\n",
              "    <tr>\n",
              "      <th>22</th>\n",
              "      <td>02/05/2022 07:32</td>\n",
              "      <td>10033</td>\n",
              "      <td>44058</td>\n",
              "      <td>1</td>\n",
              "      <td>-30</td>\n",
              "      <td>16</td>\n",
              "      <td>57</td>\n",
              "      <td>-22</td>\n",
              "      <td>47.592000</td>\n",
              "    </tr>\n",
              "    <tr>\n",
              "      <th>28</th>\n",
              "      <td>02/05/2022 10:07</td>\n",
              "      <td>10033</td>\n",
              "      <td>44399</td>\n",
              "      <td>1</td>\n",
              "      <td>-50</td>\n",
              "      <td>16</td>\n",
              "      <td>62</td>\n",
              "      <td>-43</td>\n",
              "      <td>49.142857</td>\n",
              "    </tr>\n",
              "    <tr>\n",
              "      <th>74</th>\n",
              "      <td>02/05/2022 17:12</td>\n",
              "      <td>10033</td>\n",
              "      <td>44399</td>\n",
              "      <td>1</td>\n",
              "      <td>-1</td>\n",
              "      <td>37</td>\n",
              "      <td>68</td>\n",
              "      <td>-17</td>\n",
              "      <td>53.342282</td>\n",
              "    </tr>\n",
              "    <tr>\n",
              "      <th>...</th>\n",
              "      <td>...</td>\n",
              "      <td>...</td>\n",
              "      <td>...</td>\n",
              "      <td>...</td>\n",
              "      <td>...</td>\n",
              "      <td>...</td>\n",
              "      <td>...</td>\n",
              "      <td>...</td>\n",
              "      <td>...</td>\n",
              "    </tr>\n",
              "    <tr>\n",
              "      <th>1856</th>\n",
              "      <td>25/05/2022 20:36</td>\n",
              "      <td>10033</td>\n",
              "      <td>42622</td>\n",
              "      <td>1</td>\n",
              "      <td>-20</td>\n",
              "      <td>12</td>\n",
              "      <td>51</td>\n",
              "      <td>-12</td>\n",
              "      <td>39.191667</td>\n",
              "    </tr>\n",
              "    <tr>\n",
              "      <th>1941</th>\n",
              "      <td>27/05/2022 07:24</td>\n",
              "      <td>10033</td>\n",
              "      <td>41360</td>\n",
              "      <td>1</td>\n",
              "      <td>-44</td>\n",
              "      <td>12</td>\n",
              "      <td>57</td>\n",
              "      <td>-35</td>\n",
              "      <td>38.187050</td>\n",
              "    </tr>\n",
              "    <tr>\n",
              "      <th>1943</th>\n",
              "      <td>27/05/2022 07:40</td>\n",
              "      <td>10033</td>\n",
              "      <td>44066</td>\n",
              "      <td>1</td>\n",
              "      <td>-31</td>\n",
              "      <td>0</td>\n",
              "      <td>57</td>\n",
              "      <td>1</td>\n",
              "      <td>47.856209</td>\n",
              "    </tr>\n",
              "    <tr>\n",
              "      <th>1957</th>\n",
              "      <td>27/05/2022 09:49</td>\n",
              "      <td>10033</td>\n",
              "      <td>41351</td>\n",
              "      <td>1</td>\n",
              "      <td>-33</td>\n",
              "      <td>0</td>\n",
              "      <td>62</td>\n",
              "      <td>0</td>\n",
              "      <td>48.222222</td>\n",
              "    </tr>\n",
              "    <tr>\n",
              "      <th>2133</th>\n",
              "      <td>29/05/2022 12:41</td>\n",
              "      <td>10033</td>\n",
              "      <td>41368</td>\n",
              "      <td>1</td>\n",
              "      <td>-11</td>\n",
              "      <td>15</td>\n",
              "      <td>57</td>\n",
              "      <td>1</td>\n",
              "      <td>47.016949</td>\n",
              "    </tr>\n",
              "  </tbody>\n",
              "</table>\n",
              "<p>66 rows × 9 columns</p>\n",
              "</div>\n",
              "    <div class=\"colab-df-buttons\">\n",
              "\n",
              "  <div class=\"colab-df-container\">\n",
              "    <button class=\"colab-df-convert\" onclick=\"convertToInteractive('df-b459ee5a-b41b-4ee2-87f9-54004c04f133')\"\n",
              "            title=\"Convert this dataframe to an interactive table.\"\n",
              "            style=\"display:none;\">\n",
              "\n",
              "  <svg xmlns=\"http://www.w3.org/2000/svg\" height=\"24px\" viewBox=\"0 -960 960 960\">\n",
              "    <path d=\"M120-120v-720h720v720H120Zm60-500h600v-160H180v160Zm220 220h160v-160H400v160Zm0 220h160v-160H400v160ZM180-400h160v-160H180v160Zm440 0h160v-160H620v160ZM180-180h160v-160H180v160Zm440 0h160v-160H620v160Z\"/>\n",
              "  </svg>\n",
              "    </button>\n",
              "\n",
              "  <style>\n",
              "    .colab-df-container {\n",
              "      display:flex;\n",
              "      gap: 12px;\n",
              "    }\n",
              "\n",
              "    .colab-df-convert {\n",
              "      background-color: #E8F0FE;\n",
              "      border: none;\n",
              "      border-radius: 50%;\n",
              "      cursor: pointer;\n",
              "      display: none;\n",
              "      fill: #1967D2;\n",
              "      height: 32px;\n",
              "      padding: 0 0 0 0;\n",
              "      width: 32px;\n",
              "    }\n",
              "\n",
              "    .colab-df-convert:hover {\n",
              "      background-color: #E2EBFA;\n",
              "      box-shadow: 0px 1px 2px rgba(60, 64, 67, 0.3), 0px 1px 3px 1px rgba(60, 64, 67, 0.15);\n",
              "      fill: #174EA6;\n",
              "    }\n",
              "\n",
              "    .colab-df-buttons div {\n",
              "      margin-bottom: 4px;\n",
              "    }\n",
              "\n",
              "    [theme=dark] .colab-df-convert {\n",
              "      background-color: #3B4455;\n",
              "      fill: #D2E3FC;\n",
              "    }\n",
              "\n",
              "    [theme=dark] .colab-df-convert:hover {\n",
              "      background-color: #434B5C;\n",
              "      box-shadow: 0px 1px 3px 1px rgba(0, 0, 0, 0.15);\n",
              "      filter: drop-shadow(0px 1px 2px rgba(0, 0, 0, 0.3));\n",
              "      fill: #FFFFFF;\n",
              "    }\n",
              "  </style>\n",
              "\n",
              "    <script>\n",
              "      const buttonEl =\n",
              "        document.querySelector('#df-b459ee5a-b41b-4ee2-87f9-54004c04f133 button.colab-df-convert');\n",
              "      buttonEl.style.display =\n",
              "        google.colab.kernel.accessAllowed ? 'block' : 'none';\n",
              "\n",
              "      async function convertToInteractive(key) {\n",
              "        const element = document.querySelector('#df-b459ee5a-b41b-4ee2-87f9-54004c04f133');\n",
              "        const dataTable =\n",
              "          await google.colab.kernel.invokeFunction('convertToInteractive',\n",
              "                                                    [key], {});\n",
              "        if (!dataTable) return;\n",
              "\n",
              "        const docLinkHtml = 'Like what you see? Visit the ' +\n",
              "          '<a target=\"_blank\" href=https://colab.research.google.com/notebooks/data_table.ipynb>data table notebook</a>'\n",
              "          + ' to learn more about interactive tables.';\n",
              "        element.innerHTML = '';\n",
              "        dataTable['output_type'] = 'display_data';\n",
              "        await google.colab.output.renderOutput(dataTable, element);\n",
              "        const docLink = document.createElement('div');\n",
              "        docLink.innerHTML = docLinkHtml;\n",
              "        element.appendChild(docLink);\n",
              "      }\n",
              "    </script>\n",
              "  </div>\n",
              "\n",
              "\n",
              "    <div id=\"df-70d186bd-53da-42e2-93a0-f90e1c5f6a21\">\n",
              "      <button class=\"colab-df-quickchart\" onclick=\"quickchart('df-70d186bd-53da-42e2-93a0-f90e1c5f6a21')\"\n",
              "                title=\"Suggest charts\"\n",
              "                style=\"display:none;\">\n",
              "\n",
              "<svg xmlns=\"http://www.w3.org/2000/svg\" height=\"24px\"viewBox=\"0 0 24 24\"\n",
              "     width=\"24px\">\n",
              "    <g>\n",
              "        <path d=\"M19 3H5c-1.1 0-2 .9-2 2v14c0 1.1.9 2 2 2h14c1.1 0 2-.9 2-2V5c0-1.1-.9-2-2-2zM9 17H7v-7h2v7zm4 0h-2V7h2v10zm4 0h-2v-4h2v4z\"/>\n",
              "    </g>\n",
              "</svg>\n",
              "      </button>\n",
              "\n",
              "<style>\n",
              "  .colab-df-quickchart {\n",
              "      --bg-color: #E8F0FE;\n",
              "      --fill-color: #1967D2;\n",
              "      --hover-bg-color: #E2EBFA;\n",
              "      --hover-fill-color: #174EA6;\n",
              "      --disabled-fill-color: #AAA;\n",
              "      --disabled-bg-color: #DDD;\n",
              "  }\n",
              "\n",
              "  [theme=dark] .colab-df-quickchart {\n",
              "      --bg-color: #3B4455;\n",
              "      --fill-color: #D2E3FC;\n",
              "      --hover-bg-color: #434B5C;\n",
              "      --hover-fill-color: #FFFFFF;\n",
              "      --disabled-bg-color: #3B4455;\n",
              "      --disabled-fill-color: #666;\n",
              "  }\n",
              "\n",
              "  .colab-df-quickchart {\n",
              "    background-color: var(--bg-color);\n",
              "    border: none;\n",
              "    border-radius: 50%;\n",
              "    cursor: pointer;\n",
              "    display: none;\n",
              "    fill: var(--fill-color);\n",
              "    height: 32px;\n",
              "    padding: 0;\n",
              "    width: 32px;\n",
              "  }\n",
              "\n",
              "  .colab-df-quickchart:hover {\n",
              "    background-color: var(--hover-bg-color);\n",
              "    box-shadow: 0 1px 2px rgba(60, 64, 67, 0.3), 0 1px 3px 1px rgba(60, 64, 67, 0.15);\n",
              "    fill: var(--button-hover-fill-color);\n",
              "  }\n",
              "\n",
              "  .colab-df-quickchart-complete:disabled,\n",
              "  .colab-df-quickchart-complete:disabled:hover {\n",
              "    background-color: var(--disabled-bg-color);\n",
              "    fill: var(--disabled-fill-color);\n",
              "    box-shadow: none;\n",
              "  }\n",
              "\n",
              "  .colab-df-spinner {\n",
              "    border: 2px solid var(--fill-color);\n",
              "    border-color: transparent;\n",
              "    border-bottom-color: var(--fill-color);\n",
              "    animation:\n",
              "      spin 1s steps(1) infinite;\n",
              "  }\n",
              "\n",
              "  @keyframes spin {\n",
              "    0% {\n",
              "      border-color: transparent;\n",
              "      border-bottom-color: var(--fill-color);\n",
              "      border-left-color: var(--fill-color);\n",
              "    }\n",
              "    20% {\n",
              "      border-color: transparent;\n",
              "      border-left-color: var(--fill-color);\n",
              "      border-top-color: var(--fill-color);\n",
              "    }\n",
              "    30% {\n",
              "      border-color: transparent;\n",
              "      border-left-color: var(--fill-color);\n",
              "      border-top-color: var(--fill-color);\n",
              "      border-right-color: var(--fill-color);\n",
              "    }\n",
              "    40% {\n",
              "      border-color: transparent;\n",
              "      border-right-color: var(--fill-color);\n",
              "      border-top-color: var(--fill-color);\n",
              "    }\n",
              "    60% {\n",
              "      border-color: transparent;\n",
              "      border-right-color: var(--fill-color);\n",
              "    }\n",
              "    80% {\n",
              "      border-color: transparent;\n",
              "      border-right-color: var(--fill-color);\n",
              "      border-bottom-color: var(--fill-color);\n",
              "    }\n",
              "    90% {\n",
              "      border-color: transparent;\n",
              "      border-bottom-color: var(--fill-color);\n",
              "    }\n",
              "  }\n",
              "</style>\n",
              "\n",
              "      <script>\n",
              "        async function quickchart(key) {\n",
              "          const quickchartButtonEl =\n",
              "            document.querySelector('#' + key + ' button');\n",
              "          quickchartButtonEl.disabled = true;  // To prevent multiple clicks.\n",
              "          quickchartButtonEl.classList.add('colab-df-spinner');\n",
              "          try {\n",
              "            const charts = await google.colab.kernel.invokeFunction(\n",
              "                'suggestCharts', [key], {});\n",
              "          } catch (error) {\n",
              "            console.error('Error during call to suggestCharts:', error);\n",
              "          }\n",
              "          quickchartButtonEl.classList.remove('colab-df-spinner');\n",
              "          quickchartButtonEl.classList.add('colab-df-quickchart-complete');\n",
              "        }\n",
              "        (() => {\n",
              "          let quickchartButtonEl =\n",
              "            document.querySelector('#df-70d186bd-53da-42e2-93a0-f90e1c5f6a21 button');\n",
              "          quickchartButtonEl.style.display =\n",
              "            google.colab.kernel.accessAllowed ? 'block' : 'none';\n",
              "        })();\n",
              "      </script>\n",
              "    </div>\n",
              "\n",
              "    </div>\n",
              "  </div>\n"
            ],
            "application/vnd.google.colaboratory.intrinsic+json": {
              "type": "dataframe",
              "summary": "{\n  \"name\": \"df[df[\\\"Arrival_delay\\\"] < 0]\",\n  \"rows\": 66,\n  \"fields\": [\n    {\n      \"column\": \"Arrival_time\",\n      \"properties\": {\n        \"dtype\": \"string\",\n        \"num_unique_values\": 66,\n        \"samples\": [\n          \"23/05/2022 18:58\",\n          \"27/05/2022 07:24\",\n          \"01/05/2022 07:03\"\n        ],\n        \"semantic_type\": \"\",\n        \"description\": \"\"\n      }\n    },\n    {\n      \"column\": \"Stop_id\",\n      \"properties\": {\n        \"dtype\": \"number\",\n        \"std\": 0,\n        \"min\": 10033,\n        \"max\": 10033,\n        \"num_unique_values\": 1,\n        \"samples\": [\n          10033\n        ],\n        \"semantic_type\": \"\",\n        \"description\": \"\"\n      }\n    },\n    {\n      \"column\": \"Bus_id\",\n      \"properties\": {\n        \"dtype\": \"number\",\n        \"std\": 1333,\n        \"min\": 41343,\n        \"max\": 44400,\n        \"num_unique_values\": 35,\n        \"samples\": [\n          41757\n        ],\n        \"semantic_type\": \"\",\n        \"description\": \"\"\n      }\n    },\n    {\n      \"column\": \"Line_id\",\n      \"properties\": {\n        \"dtype\": \"number\",\n        \"std\": 0,\n        \"min\": 1,\n        \"max\": 1,\n        \"num_unique_values\": 1,\n        \"samples\": [\n          1\n        ],\n        \"semantic_type\": \"\",\n        \"description\": \"\"\n      }\n    },\n    {\n      \"column\": \"Arrival_delay\",\n      \"properties\": {\n        \"dtype\": \"number\",\n        \"std\": 16,\n        \"min\": -72,\n        \"max\": -1,\n        \"num_unique_values\": 36,\n        \"samples\": [\n          -33\n        ],\n        \"semantic_type\": \"\",\n        \"description\": \"\"\n      }\n    },\n    {\n      \"column\": \"Dwell_time\",\n      \"properties\": {\n        \"dtype\": \"number\",\n        \"std\": 9,\n        \"min\": 0,\n        \"max\": 47,\n        \"num_unique_values\": 27,\n        \"samples\": [\n          31\n        ],\n        \"semantic_type\": \"\",\n        \"description\": \"\"\n      }\n    },\n    {\n      \"column\": \"Scheduled_travel_time\",\n      \"properties\": {\n        \"dtype\": \"number\",\n        \"std\": 6,\n        \"min\": 39,\n        \"max\": 68,\n        \"num_unique_values\": 6,\n        \"samples\": [\n          39\n        ],\n        \"semantic_type\": \"\",\n        \"description\": \"\"\n      }\n    },\n    {\n      \"column\": \"Upstream_stop_delay\",\n      \"properties\": {\n        \"dtype\": \"number\",\n        \"std\": 20,\n        \"min\": -82,\n        \"max\": 11,\n        \"num_unique_values\": 47,\n        \"samples\": [\n          -40\n        ],\n        \"semantic_type\": \"\",\n        \"description\": \"\"\n      }\n    },\n    {\n      \"column\": \"Recurrent_delay\",\n      \"properties\": {\n        \"dtype\": \"number\",\n        \"std\": 7.066249607450773,\n        \"min\": 28.64150943,\n        \"max\": 54.02272727,\n        \"num_unique_values\": 66,\n        \"samples\": [\n          45.1483871\n        ],\n        \"semantic_type\": \"\",\n        \"description\": \"\"\n      }\n    }\n  ]\n}"
            }
          },
          "metadata": {},
          "execution_count": 27
        }
      ],
      "source": [
        "df[df[\"Arrival_delay\"] < 0]"
      ]
    },
    {
      "cell_type": "markdown",
      "metadata": {
        "id": "oujSFrgjAdaw"
      },
      "source": [
        "Combination of filters:"
      ]
    },
    {
      "cell_type": "code",
      "execution_count": 28,
      "metadata": {
        "id": "U6vHsPWGAdaw",
        "outputId": "077eef84-db0c-4768-8e5e-1347772e0665",
        "colab": {
          "base_uri": "https://localhost:8080/",
          "height": 556
        }
      },
      "outputs": [
        {
          "output_type": "execute_result",
          "data": {
            "text/plain": [
              "          Arrival_time  Stop_id  Bus_id  Line_id  Arrival_delay  Dwell_time  \\\n",
              "74    02/05/2022 17:12    10033   44399        1             -1          37   \n",
              "169   03/05/2022 19:30    10033   44058        1            -38          31   \n",
              "193   04/05/2022 07:33    10033   41351        1             -3          33   \n",
              "292   05/05/2022 11:33    10033   41752        1            -10          32   \n",
              "346   05/05/2022 20:09    10033   41348        1            -18          35   \n",
              "707   10/05/2022 13:25    10033   41369        1             -9          38   \n",
              "1179  16/05/2022 15:19    10033   44399        1            -40          47   \n",
              "1333  19/05/2022 10:08    10033   44399        1            -11          31   \n",
              "1454  20/05/2022 17:31    10033   41757        1            -27          34   \n",
              "1617  22/05/2022 20:12    10033   44068        1            -27          34   \n",
              "\n",
              "      Scheduled_travel_time  Upstream_stop_delay  Recurrent_delay  \n",
              "74                       68                  -17        53.342282  \n",
              "169                      57                  -44        38.835165  \n",
              "193                      57                  -23        54.022727  \n",
              "292                      62                  -22        50.765217  \n",
              "346                      57                  -41        37.490000  \n",
              "707                      62                  -30        50.222222  \n",
              "1179                     68                  -82        50.032680  \n",
              "1333                     62                  -24        48.704545  \n",
              "1454                     68                  -43        52.941558  \n",
              "1617                     46                  -43        39.450000  "
            ],
            "text/html": [
              "\n",
              "  <div id=\"df-fc102bee-ee28-488f-b83e-0a56048cc5a8\" class=\"colab-df-container\">\n",
              "    <div>\n",
              "<style scoped>\n",
              "    .dataframe tbody tr th:only-of-type {\n",
              "        vertical-align: middle;\n",
              "    }\n",
              "\n",
              "    .dataframe tbody tr th {\n",
              "        vertical-align: top;\n",
              "    }\n",
              "\n",
              "    .dataframe thead th {\n",
              "        text-align: right;\n",
              "    }\n",
              "</style>\n",
              "<table border=\"1\" class=\"dataframe\">\n",
              "  <thead>\n",
              "    <tr style=\"text-align: right;\">\n",
              "      <th></th>\n",
              "      <th>Arrival_time</th>\n",
              "      <th>Stop_id</th>\n",
              "      <th>Bus_id</th>\n",
              "      <th>Line_id</th>\n",
              "      <th>Arrival_delay</th>\n",
              "      <th>Dwell_time</th>\n",
              "      <th>Scheduled_travel_time</th>\n",
              "      <th>Upstream_stop_delay</th>\n",
              "      <th>Recurrent_delay</th>\n",
              "    </tr>\n",
              "  </thead>\n",
              "  <tbody>\n",
              "    <tr>\n",
              "      <th>74</th>\n",
              "      <td>02/05/2022 17:12</td>\n",
              "      <td>10033</td>\n",
              "      <td>44399</td>\n",
              "      <td>1</td>\n",
              "      <td>-1</td>\n",
              "      <td>37</td>\n",
              "      <td>68</td>\n",
              "      <td>-17</td>\n",
              "      <td>53.342282</td>\n",
              "    </tr>\n",
              "    <tr>\n",
              "      <th>169</th>\n",
              "      <td>03/05/2022 19:30</td>\n",
              "      <td>10033</td>\n",
              "      <td>44058</td>\n",
              "      <td>1</td>\n",
              "      <td>-38</td>\n",
              "      <td>31</td>\n",
              "      <td>57</td>\n",
              "      <td>-44</td>\n",
              "      <td>38.835165</td>\n",
              "    </tr>\n",
              "    <tr>\n",
              "      <th>193</th>\n",
              "      <td>04/05/2022 07:33</td>\n",
              "      <td>10033</td>\n",
              "      <td>41351</td>\n",
              "      <td>1</td>\n",
              "      <td>-3</td>\n",
              "      <td>33</td>\n",
              "      <td>57</td>\n",
              "      <td>-23</td>\n",
              "      <td>54.022727</td>\n",
              "    </tr>\n",
              "    <tr>\n",
              "      <th>292</th>\n",
              "      <td>05/05/2022 11:33</td>\n",
              "      <td>10033</td>\n",
              "      <td>41752</td>\n",
              "      <td>1</td>\n",
              "      <td>-10</td>\n",
              "      <td>32</td>\n",
              "      <td>62</td>\n",
              "      <td>-22</td>\n",
              "      <td>50.765217</td>\n",
              "    </tr>\n",
              "    <tr>\n",
              "      <th>346</th>\n",
              "      <td>05/05/2022 20:09</td>\n",
              "      <td>10033</td>\n",
              "      <td>41348</td>\n",
              "      <td>1</td>\n",
              "      <td>-18</td>\n",
              "      <td>35</td>\n",
              "      <td>57</td>\n",
              "      <td>-41</td>\n",
              "      <td>37.490000</td>\n",
              "    </tr>\n",
              "    <tr>\n",
              "      <th>707</th>\n",
              "      <td>10/05/2022 13:25</td>\n",
              "      <td>10033</td>\n",
              "      <td>41369</td>\n",
              "      <td>1</td>\n",
              "      <td>-9</td>\n",
              "      <td>38</td>\n",
              "      <td>62</td>\n",
              "      <td>-30</td>\n",
              "      <td>50.222222</td>\n",
              "    </tr>\n",
              "    <tr>\n",
              "      <th>1179</th>\n",
              "      <td>16/05/2022 15:19</td>\n",
              "      <td>10033</td>\n",
              "      <td>44399</td>\n",
              "      <td>1</td>\n",
              "      <td>-40</td>\n",
              "      <td>47</td>\n",
              "      <td>68</td>\n",
              "      <td>-82</td>\n",
              "      <td>50.032680</td>\n",
              "    </tr>\n",
              "    <tr>\n",
              "      <th>1333</th>\n",
              "      <td>19/05/2022 10:08</td>\n",
              "      <td>10033</td>\n",
              "      <td>44399</td>\n",
              "      <td>1</td>\n",
              "      <td>-11</td>\n",
              "      <td>31</td>\n",
              "      <td>62</td>\n",
              "      <td>-24</td>\n",
              "      <td>48.704545</td>\n",
              "    </tr>\n",
              "    <tr>\n",
              "      <th>1454</th>\n",
              "      <td>20/05/2022 17:31</td>\n",
              "      <td>10033</td>\n",
              "      <td>41757</td>\n",
              "      <td>1</td>\n",
              "      <td>-27</td>\n",
              "      <td>34</td>\n",
              "      <td>68</td>\n",
              "      <td>-43</td>\n",
              "      <td>52.941558</td>\n",
              "    </tr>\n",
              "    <tr>\n",
              "      <th>1617</th>\n",
              "      <td>22/05/2022 20:12</td>\n",
              "      <td>10033</td>\n",
              "      <td>44068</td>\n",
              "      <td>1</td>\n",
              "      <td>-27</td>\n",
              "      <td>34</td>\n",
              "      <td>46</td>\n",
              "      <td>-43</td>\n",
              "      <td>39.450000</td>\n",
              "    </tr>\n",
              "  </tbody>\n",
              "</table>\n",
              "</div>\n",
              "    <div class=\"colab-df-buttons\">\n",
              "\n",
              "  <div class=\"colab-df-container\">\n",
              "    <button class=\"colab-df-convert\" onclick=\"convertToInteractive('df-fc102bee-ee28-488f-b83e-0a56048cc5a8')\"\n",
              "            title=\"Convert this dataframe to an interactive table.\"\n",
              "            style=\"display:none;\">\n",
              "\n",
              "  <svg xmlns=\"http://www.w3.org/2000/svg\" height=\"24px\" viewBox=\"0 -960 960 960\">\n",
              "    <path d=\"M120-120v-720h720v720H120Zm60-500h600v-160H180v160Zm220 220h160v-160H400v160Zm0 220h160v-160H400v160ZM180-400h160v-160H180v160Zm440 0h160v-160H620v160ZM180-180h160v-160H180v160Zm440 0h160v-160H620v160Z\"/>\n",
              "  </svg>\n",
              "    </button>\n",
              "\n",
              "  <style>\n",
              "    .colab-df-container {\n",
              "      display:flex;\n",
              "      gap: 12px;\n",
              "    }\n",
              "\n",
              "    .colab-df-convert {\n",
              "      background-color: #E8F0FE;\n",
              "      border: none;\n",
              "      border-radius: 50%;\n",
              "      cursor: pointer;\n",
              "      display: none;\n",
              "      fill: #1967D2;\n",
              "      height: 32px;\n",
              "      padding: 0 0 0 0;\n",
              "      width: 32px;\n",
              "    }\n",
              "\n",
              "    .colab-df-convert:hover {\n",
              "      background-color: #E2EBFA;\n",
              "      box-shadow: 0px 1px 2px rgba(60, 64, 67, 0.3), 0px 1px 3px 1px rgba(60, 64, 67, 0.15);\n",
              "      fill: #174EA6;\n",
              "    }\n",
              "\n",
              "    .colab-df-buttons div {\n",
              "      margin-bottom: 4px;\n",
              "    }\n",
              "\n",
              "    [theme=dark] .colab-df-convert {\n",
              "      background-color: #3B4455;\n",
              "      fill: #D2E3FC;\n",
              "    }\n",
              "\n",
              "    [theme=dark] .colab-df-convert:hover {\n",
              "      background-color: #434B5C;\n",
              "      box-shadow: 0px 1px 3px 1px rgba(0, 0, 0, 0.15);\n",
              "      filter: drop-shadow(0px 1px 2px rgba(0, 0, 0, 0.3));\n",
              "      fill: #FFFFFF;\n",
              "    }\n",
              "  </style>\n",
              "\n",
              "    <script>\n",
              "      const buttonEl =\n",
              "        document.querySelector('#df-fc102bee-ee28-488f-b83e-0a56048cc5a8 button.colab-df-convert');\n",
              "      buttonEl.style.display =\n",
              "        google.colab.kernel.accessAllowed ? 'block' : 'none';\n",
              "\n",
              "      async function convertToInteractive(key) {\n",
              "        const element = document.querySelector('#df-fc102bee-ee28-488f-b83e-0a56048cc5a8');\n",
              "        const dataTable =\n",
              "          await google.colab.kernel.invokeFunction('convertToInteractive',\n",
              "                                                    [key], {});\n",
              "        if (!dataTable) return;\n",
              "\n",
              "        const docLinkHtml = 'Like what you see? Visit the ' +\n",
              "          '<a target=\"_blank\" href=https://colab.research.google.com/notebooks/data_table.ipynb>data table notebook</a>'\n",
              "          + ' to learn more about interactive tables.';\n",
              "        element.innerHTML = '';\n",
              "        dataTable['output_type'] = 'display_data';\n",
              "        await google.colab.output.renderOutput(dataTable, element);\n",
              "        const docLink = document.createElement('div');\n",
              "        docLink.innerHTML = docLinkHtml;\n",
              "        element.appendChild(docLink);\n",
              "      }\n",
              "    </script>\n",
              "  </div>\n",
              "\n",
              "\n",
              "    <div id=\"df-6f76636b-c9ab-4e2d-bd97-61c1af79b762\">\n",
              "      <button class=\"colab-df-quickchart\" onclick=\"quickchart('df-6f76636b-c9ab-4e2d-bd97-61c1af79b762')\"\n",
              "                title=\"Suggest charts\"\n",
              "                style=\"display:none;\">\n",
              "\n",
              "<svg xmlns=\"http://www.w3.org/2000/svg\" height=\"24px\"viewBox=\"0 0 24 24\"\n",
              "     width=\"24px\">\n",
              "    <g>\n",
              "        <path d=\"M19 3H5c-1.1 0-2 .9-2 2v14c0 1.1.9 2 2 2h14c1.1 0 2-.9 2-2V5c0-1.1-.9-2-2-2zM9 17H7v-7h2v7zm4 0h-2V7h2v10zm4 0h-2v-4h2v4z\"/>\n",
              "    </g>\n",
              "</svg>\n",
              "      </button>\n",
              "\n",
              "<style>\n",
              "  .colab-df-quickchart {\n",
              "      --bg-color: #E8F0FE;\n",
              "      --fill-color: #1967D2;\n",
              "      --hover-bg-color: #E2EBFA;\n",
              "      --hover-fill-color: #174EA6;\n",
              "      --disabled-fill-color: #AAA;\n",
              "      --disabled-bg-color: #DDD;\n",
              "  }\n",
              "\n",
              "  [theme=dark] .colab-df-quickchart {\n",
              "      --bg-color: #3B4455;\n",
              "      --fill-color: #D2E3FC;\n",
              "      --hover-bg-color: #434B5C;\n",
              "      --hover-fill-color: #FFFFFF;\n",
              "      --disabled-bg-color: #3B4455;\n",
              "      --disabled-fill-color: #666;\n",
              "  }\n",
              "\n",
              "  .colab-df-quickchart {\n",
              "    background-color: var(--bg-color);\n",
              "    border: none;\n",
              "    border-radius: 50%;\n",
              "    cursor: pointer;\n",
              "    display: none;\n",
              "    fill: var(--fill-color);\n",
              "    height: 32px;\n",
              "    padding: 0;\n",
              "    width: 32px;\n",
              "  }\n",
              "\n",
              "  .colab-df-quickchart:hover {\n",
              "    background-color: var(--hover-bg-color);\n",
              "    box-shadow: 0 1px 2px rgba(60, 64, 67, 0.3), 0 1px 3px 1px rgba(60, 64, 67, 0.15);\n",
              "    fill: var(--button-hover-fill-color);\n",
              "  }\n",
              "\n",
              "  .colab-df-quickchart-complete:disabled,\n",
              "  .colab-df-quickchart-complete:disabled:hover {\n",
              "    background-color: var(--disabled-bg-color);\n",
              "    fill: var(--disabled-fill-color);\n",
              "    box-shadow: none;\n",
              "  }\n",
              "\n",
              "  .colab-df-spinner {\n",
              "    border: 2px solid var(--fill-color);\n",
              "    border-color: transparent;\n",
              "    border-bottom-color: var(--fill-color);\n",
              "    animation:\n",
              "      spin 1s steps(1) infinite;\n",
              "  }\n",
              "\n",
              "  @keyframes spin {\n",
              "    0% {\n",
              "      border-color: transparent;\n",
              "      border-bottom-color: var(--fill-color);\n",
              "      border-left-color: var(--fill-color);\n",
              "    }\n",
              "    20% {\n",
              "      border-color: transparent;\n",
              "      border-left-color: var(--fill-color);\n",
              "      border-top-color: var(--fill-color);\n",
              "    }\n",
              "    30% {\n",
              "      border-color: transparent;\n",
              "      border-left-color: var(--fill-color);\n",
              "      border-top-color: var(--fill-color);\n",
              "      border-right-color: var(--fill-color);\n",
              "    }\n",
              "    40% {\n",
              "      border-color: transparent;\n",
              "      border-right-color: var(--fill-color);\n",
              "      border-top-color: var(--fill-color);\n",
              "    }\n",
              "    60% {\n",
              "      border-color: transparent;\n",
              "      border-right-color: var(--fill-color);\n",
              "    }\n",
              "    80% {\n",
              "      border-color: transparent;\n",
              "      border-right-color: var(--fill-color);\n",
              "      border-bottom-color: var(--fill-color);\n",
              "    }\n",
              "    90% {\n",
              "      border-color: transparent;\n",
              "      border-bottom-color: var(--fill-color);\n",
              "    }\n",
              "  }\n",
              "</style>\n",
              "\n",
              "      <script>\n",
              "        async function quickchart(key) {\n",
              "          const quickchartButtonEl =\n",
              "            document.querySelector('#' + key + ' button');\n",
              "          quickchartButtonEl.disabled = true;  // To prevent multiple clicks.\n",
              "          quickchartButtonEl.classList.add('colab-df-spinner');\n",
              "          try {\n",
              "            const charts = await google.colab.kernel.invokeFunction(\n",
              "                'suggestCharts', [key], {});\n",
              "          } catch (error) {\n",
              "            console.error('Error during call to suggestCharts:', error);\n",
              "          }\n",
              "          quickchartButtonEl.classList.remove('colab-df-spinner');\n",
              "          quickchartButtonEl.classList.add('colab-df-quickchart-complete');\n",
              "        }\n",
              "        (() => {\n",
              "          let quickchartButtonEl =\n",
              "            document.querySelector('#df-6f76636b-c9ab-4e2d-bd97-61c1af79b762 button');\n",
              "          quickchartButtonEl.style.display =\n",
              "            google.colab.kernel.accessAllowed ? 'block' : 'none';\n",
              "        })();\n",
              "      </script>\n",
              "    </div>\n",
              "\n",
              "    </div>\n",
              "  </div>\n"
            ],
            "application/vnd.google.colaboratory.intrinsic+json": {
              "type": "dataframe",
              "summary": "{\n  \"name\": \"]\",\n  \"rows\": 10,\n  \"fields\": [\n    {\n      \"column\": \"Arrival_time\",\n      \"properties\": {\n        \"dtype\": \"string\",\n        \"num_unique_values\": 10,\n        \"samples\": [\n          \"20/05/2022 17:31\",\n          \"03/05/2022 19:30\",\n          \"10/05/2022 13:25\"\n        ],\n        \"semantic_type\": \"\",\n        \"description\": \"\"\n      }\n    },\n    {\n      \"column\": \"Stop_id\",\n      \"properties\": {\n        \"dtype\": \"number\",\n        \"std\": 0,\n        \"min\": 10033,\n        \"max\": 10033,\n        \"num_unique_values\": 1,\n        \"samples\": [\n          10033\n        ],\n        \"semantic_type\": \"\",\n        \"description\": \"\"\n      }\n    },\n    {\n      \"column\": \"Bus_id\",\n      \"properties\": {\n        \"dtype\": \"number\",\n        \"std\": 1461,\n        \"min\": 41348,\n        \"max\": 44399,\n        \"num_unique_values\": 8,\n        \"samples\": [\n          44058\n        ],\n        \"semantic_type\": \"\",\n        \"description\": \"\"\n      }\n    },\n    {\n      \"column\": \"Line_id\",\n      \"properties\": {\n        \"dtype\": \"number\",\n        \"std\": 0,\n        \"min\": 1,\n        \"max\": 1,\n        \"num_unique_values\": 1,\n        \"samples\": [\n          1\n        ],\n        \"semantic_type\": \"\",\n        \"description\": \"\"\n      }\n    },\n    {\n      \"column\": \"Arrival_delay\",\n      \"properties\": {\n        \"dtype\": \"number\",\n        \"std\": 13,\n        \"min\": -40,\n        \"max\": -1,\n        \"num_unique_values\": 9,\n        \"samples\": [\n          -11\n        ],\n        \"semantic_type\": \"\",\n        \"description\": \"\"\n      }\n    },\n    {\n      \"column\": \"Dwell_time\",\n      \"properties\": {\n        \"dtype\": \"number\",\n        \"std\": 4,\n        \"min\": 31,\n        \"max\": 47,\n        \"num_unique_values\": 8,\n        \"samples\": [\n          31\n        ],\n        \"semantic_type\": \"\",\n        \"description\": \"\"\n      }\n    },\n    {\n      \"column\": \"Scheduled_travel_time\",\n      \"properties\": {\n        \"dtype\": \"number\",\n        \"std\": 6,\n        \"min\": 46,\n        \"max\": 68,\n        \"num_unique_values\": 4,\n        \"samples\": [\n          57\n        ],\n        \"semantic_type\": \"\",\n        \"description\": \"\"\n      }\n    },\n    {\n      \"column\": \"Upstream_stop_delay\",\n      \"properties\": {\n        \"dtype\": \"number\",\n        \"std\": 18,\n        \"min\": -82,\n        \"max\": -17,\n        \"num_unique_values\": 9,\n        \"samples\": [\n          -24\n        ],\n        \"semantic_type\": \"\",\n        \"description\": \"\"\n      }\n    },\n    {\n      \"column\": \"Recurrent_delay\",\n      \"properties\": {\n        \"dtype\": \"number\",\n        \"std\": 6.431202258316459,\n        \"min\": 37.49,\n        \"max\": 54.02272727,\n        \"num_unique_values\": 10,\n        \"samples\": [\n          52.94155844\n        ],\n        \"semantic_type\": \"\",\n        \"description\": \"\"\n      }\n    }\n  ]\n}"
            }
          },
          "metadata": {},
          "execution_count": 28
        }
      ],
      "source": [
        "df[\n",
        "    (df[\"Arrival_delay\"] < 0)\n",
        "    & (df[\"Dwell_time\"] > 30)\n",
        "]"
      ]
    },
    {
      "cell_type": "markdown",
      "metadata": {
        "id": "YEDmvzfjAdaw"
      },
      "source": [
        "## Analysis of the DataFrame\n",
        "\n",
        "We can for instance calculate the mean arrival delay for each Bus id:"
      ]
    },
    {
      "cell_type": "code",
      "execution_count": null,
      "metadata": {
        "id": "6m4749PnAdax"
      },
      "outputs": [],
      "source": [
        "df.groupby(\"Bus_id\")[\"Arrival_delay\"].mean()"
      ]
    },
    {
      "cell_type": "markdown",
      "metadata": {
        "id": "NUvpCB6VAdax"
      },
      "source": [
        "## Plotting with matplotlib"
      ]
    },
    {
      "cell_type": "code",
      "execution_count": null,
      "metadata": {
        "id": "7EifBB0aAdax"
      },
      "outputs": [],
      "source": [
        "import matplotlib.pyplot as plt"
      ]
    },
    {
      "cell_type": "markdown",
      "metadata": {
        "id": "BrXDX9ANAdax"
      },
      "source": [
        "We now create a scatter plot plotting the dwell time vs the arrival delay. This can help to uncover relations between the different variables."
      ]
    },
    {
      "cell_type": "code",
      "execution_count": null,
      "metadata": {
        "id": "kpweUDVdAdax"
      },
      "outputs": [],
      "source": [
        "plt.scatter(data=df, x=\"Dwell_time\", y=\"Arrival_delay\")\n",
        "plt.xlabel(\"Dwell_time\")\n",
        "plt.ylabel(\"Arrival_delay\")\n",
        "plt.title(\"Scatter plot of Dwell Time vs Arrival Delay\")\n",
        "plt.show()"
      ]
    },
    {
      "cell_type": "markdown",
      "metadata": {
        "id": "uxskkhC8Adax"
      },
      "source": [
        "Other plots that might be helpful"
      ]
    },
    {
      "cell_type": "code",
      "execution_count": null,
      "metadata": {
        "id": "qQ7ORdHbAdax"
      },
      "outputs": [],
      "source": [
        "plt.boxplot(df[\"Dwell_time\"])\n",
        "plt.xlabel(\"Dwell_time\")\n",
        "plt.title(\"Box plot of Dwell Time\")\n",
        "plt.show()"
      ]
    },
    {
      "cell_type": "markdown",
      "metadata": {
        "id": "OKMiuw11Bpww"
      },
      "source": [
        "# Appendix - Part 1 - Example code that might be helpful for the excersises\n",
        "In this part, we will focus on a simple example of applying the ML model to transportation prediction applications."
      ]
    },
    {
      "cell_type": "markdown",
      "metadata": {
        "id": "yWPNM8MCwt5E"
      },
      "source": [
        "As first lets import, install and upgrade libraries we would need"
      ]
    },
    {
      "cell_type": "code",
      "execution_count": null,
      "metadata": {
        "id": "qQGXMJMohU8t"
      },
      "outputs": [],
      "source": [
        "# Install packages for colab env\n",
        "!pip install fastparquet # package for reading .parquet data\n",
        "!pip install --upgrade geopandas  # for spatial visualization"
      ]
    },
    {
      "cell_type": "code",
      "execution_count": null,
      "metadata": {
        "id": "lSLhjlsekDQD"
      },
      "outputs": [],
      "source": [
        "import os\n",
        "import pandas as pd"
      ]
    },
    {
      "cell_type": "markdown",
      "metadata": {
        "id": "-nqh3O32B4tl"
      },
      "source": [
        "## Data loading\n",
        "The below code is pulling the open NY taxi trip data from GitHub repository and create pandas dataframe"
      ]
    },
    {
      "cell_type": "code",
      "execution_count": null,
      "metadata": {
        "id": "D4VMXdFUkWEI"
      },
      "outputs": [],
      "source": [
        "# Loading the dataset\n",
        "# Two ways to read our data in colab, here we use 2)\n",
        "# 1). upload\n",
        "# 2). clone from github repo\n",
        "\n",
        "\"\"\"\n",
        "# 1). Upload and read data\n",
        "# import files module\n",
        "from google.colab import files\n",
        "uploaded = files.upload()\n",
        "print(os.listdir())\n",
        "df = pd.read_parquet('NY_taxi_2017Mar_09-11.parquet', engine='fastparquet')\n",
        "\"\"\"\n",
        "\n",
        "# 2). Clone and read data from github repo\n",
        "!git clone https://github.com/georgewanglz2019/Data-Science-and-AI-for-Intelligent-Transport-Systems.git\n",
        "%cd Data-Science-and-AI-for-Intelligent-Transport-Systems\n",
        "print(os.listdir())  #  Gets the files and directories present in current path\n",
        "trips = pd.read_parquet('NY_Taxi_March_2017.parquet', engine='fastparquet')  # extracted trip data"
      ]
    },
    {
      "cell_type": "markdown",
      "metadata": {
        "id": "fOkOraDPxCgk"
      },
      "source": [
        "And lets check the dataframe *trips* data by examining first two rows"
      ]
    },
    {
      "cell_type": "code",
      "execution_count": null,
      "metadata": {
        "id": "IcE0ZsvgkdBc"
      },
      "outputs": [],
      "source": [
        "trips.head(2) # show the first 10 lines of data"
      ]
    },
    {
      "cell_type": "markdown",
      "metadata": {
        "id": "96JK6qM1midI"
      },
      "source": [
        "## Modeling\n",
        "Often, data must be manipulated and processed to the ML model input format. **!!! Note** During the course, you will receive ready datasets or Python scripts for their manipulation to let you focus on exploration and training models. However, you may consider additional manipulation of handling outliers if you identify some in the training process.\n",
        "\n",
        "### Data manipulation\n",
        "Here, we want to aggregate the individual trip records to 15 time intervals. They will be used as the historical dataset for training the ML model and predicting future 15 minutes by allowing the use of observations from 3 prior time intervals in the past back to 45 minutes."
      ]
    },
    {
      "cell_type": "code",
      "execution_count": null,
      "metadata": {
        "id": "4wzWq-jommO5"
      },
      "outputs": [],
      "source": [
        "import numpy as np\n",
        "import pandas as pd\n",
        "import seaborn as sns\n",
        "import matplotlib.pyplot as plt\n",
        "import time\n",
        "import copy\n",
        "\n",
        "\"\"\" ************************ DATA MANIPULATING/ORGANIZATION ********************************************\"\"\"\n",
        "# I: Calculate passenger trips per time period per day\n",
        "trips_period = trips.groupby(['DayofYear', 'TimePeriod'])['passenger_count'].sum().reset_index()\n",
        "\n",
        "# II: construct time series\n",
        "# step 1: Construct a template of times\n",
        "time_interval = 15  # 15 min\n",
        "day_start, day_end = (60, 91)   # March, days starting from January 1\n",
        "time_start, time_end = (5 * 60, 23 * 60)   # 5:00-23:00 in minutes\n",
        "unique_days = np.arange(day_start, day_end)\n",
        "unique_time_periods = np.arange(time_start, time_end, time_interval)   # time period with interval 15 minutes\n",
        "list_day, list_time = zip(*[(d, t) for d in unique_days for t in unique_time_periods])\n",
        "\n",
        "ts_template = pd.DataFrame()\n",
        "ts_template = ts_template.assign(DayofYear=list_day, TimePeriod=list_time)\n",
        "\n",
        "# step 2: Merge the observations with the template and fill na zero\n",
        "ts = ts_template.merge(trips_period, on=['DayofYear', 'TimePeriod'], how='left').fillna(0)\n",
        "ts.sort_values(['DayofYear', 'TimePeriod'], inplace=True, ascending=False)\n",
        "\n",
        "# step 3: Create columns for time series of pax counts with time lags (t-1, t-2, t-3, etc.)\n",
        "ts['T'] = ts['passenger_count']\n",
        "ts['T_1'] = ts['T'].shift(-1)\n",
        "ts['T_2'] = ts['T'].shift(-2)\n",
        "ts['T_3'] = ts['T'].shift(-3)\n",
        "print(ts.head())\n",
        "# step 4: Delete the record with day transition time periods\n",
        "del_list = np.arange(time_start, time_start + time_interval * 3, time_interval)\n",
        "\n",
        "ts = ts[~ts.TimePeriod.isin(del_list)]\n",
        "print(ts.head())\n"
      ]
    },
    {
      "cell_type": "markdown",
      "metadata": {
        "id": "zvQ5VFQM00AV"
      },
      "source": [
        "For training the model, you will need a training set and for testing or evaluating the test dataset's performance. Thus, you have to decide. Here, we pick the first 80 days of the year for training and test the model to predict the later days."
      ]
    },
    {
      "cell_type": "code",
      "execution_count": null,
      "metadata": {
        "id": "jsLzrLwm0zZM"
      },
      "outputs": [],
      "source": [
        "# step 5: Finalize the data, and split training and testing data\n",
        "ts_train = ts[ts.DayofYear <= 80]\n",
        "ts_test = ts[ts.DayofYear > 80]\n",
        "ts = ts[['T', 'T_1', 'T_2', 'T_3']]"
      ]
    },
    {
      "cell_type": "markdown",
      "metadata": {
        "id": "0L9_g0X_m3k5"
      },
      "source": [
        "#### Data Exploration\n",
        "Exploring the data before training is vital for handling missing or outlier values and identifying correlations between features that could be used for predicting others. You may already have experience with such exploration from statistical modeling with linear regression. In this case, correlations between time intervals."
      ]
    },
    {
      "cell_type": "code",
      "execution_count": null,
      "metadata": {
        "id": "pGJVvJ98m6wV"
      },
      "outputs": [],
      "source": [
        "desc_stat = ts.describe()\n",
        "desc_stat"
      ]
    },
    {
      "cell_type": "code",
      "execution_count": null,
      "metadata": {
        "id": "23GNPRGGm-a0"
      },
      "outputs": [],
      "source": [
        "# II. Distribution and scatter plots\n",
        "sns.pairplot(ts)   # pair plot\n",
        "plt.show()"
      ]
    },
    {
      "cell_type": "code",
      "execution_count": null,
      "metadata": {
        "id": "oFEeJV3TnDww"
      },
      "outputs": [],
      "source": [
        "ts_corr = ts.corr()\n",
        "sns.heatmap(ts_corr)\n",
        "plt.show()"
      ]
    },
    {
      "cell_type": "markdown",
      "metadata": {
        "id": "8zkTECiLnXRm"
      },
      "source": [
        "#### Data preparation for machine learning models\n",
        "In this example, we consider only two past time-intervals and thus create new sub-sets of train and test data."
      ]
    },
    {
      "cell_type": "code",
      "execution_count": null,
      "metadata": {
        "id": "_u_UDKKXnc3-"
      },
      "outputs": [],
      "source": [
        "X_train = ts_train[['T_1', 'T_2']]\n",
        "y_train = ts_train['T']\n",
        "\n",
        "X_test = ts_test[['T_1', 'T_2']]\n",
        "y_test = ts_test['T']"
      ]
    },
    {
      "cell_type": "code",
      "execution_count": null,
      "metadata": {
        "id": "41ZZ0mW1nqDI"
      },
      "outputs": [],
      "source": [
        "from sklearn.tree import DecisionTreeRegressor\n",
        "from sklearn.metrics import mean_squared_error\n",
        "# train and predict\n",
        "tree_regressor = DecisionTreeRegressor() # # here we just change parameter 'max_depth'\n",
        "tree_regressor.fit(X_train, y_train)\n",
        "y_pred_tree = tree_regressor.predict(X_test)\n",
        "\n",
        "# compare the prediction and the true value\n",
        "x = range(len(y_test))\n",
        "plt.plot(x, y_test, label='True', alpha = 0.7)\n",
        "plt.plot(x, y_pred_tree, label='Tree Prediciton', alpha = 0.7)\n",
        "plt.legend()\n",
        "plt.show()\n",
        "\n",
        "# evaluation - smaller is better\n",
        "tree_mse = mean_squared_error(y_test, y_pred_tree)\n",
        "print(tree_mse)"
      ]
    },
    {
      "cell_type": "markdown",
      "metadata": {
        "id": "eFYPGyuwpytr"
      },
      "source": [
        "Always check your ML model to see what parameters need to be calibrated. Check the Decision Tree model and its parameters. [DT model](https://scikit-learn.org/stable/modules/generated/sklearn.tree.DecisionTreeRegressor.html)"
      ]
    },
    {
      "cell_type": "code",
      "execution_count": null,
      "metadata": {
        "id": "1F6yyXCQne7r"
      },
      "outputs": [],
      "source": [
        "# Tune the parameters of decision tree, then train and predict\n",
        "# train and predict\n",
        "best_t = None\n",
        "for i in range(1,10):\n",
        "    tree_regressor = DecisionTreeRegressor(max_depth=i, random_state=45, splitter = 'random') # # here we just change parameter 'max_depth'\n",
        "    tree_regressor.fit(X_train, y_train)\n",
        "    y_pred_tree = tree_regressor.predict(X_test)\n",
        "    # evaluation - smaller is better\n",
        "    tree_mse = mean_squared_error(y_test, y_pred_tree)\n",
        "    if best_t is None or best_t > tree_mse:\n",
        "      best_t = tree_mse\n",
        "print('best tree mse',best_t)"
      ]
    },
    {
      "cell_type": "markdown",
      "metadata": {
        "id": "oGrWGFZIp8g2"
      },
      "source": [
        "[RF model](https://scikit-learn.org/stable/modules/generated/sklearn.ensemble.RandomForestRegressor.html#sklearn.ensemble.RandomForestRegressor)"
      ]
    },
    {
      "cell_type": "code",
      "execution_count": null,
      "metadata": {
        "id": "zYAS81PEoQuz"
      },
      "outputs": [],
      "source": [
        "from sklearn.ensemble import RandomForestRegressor\n",
        "best_t = None\n",
        "n_estimators = [10,20,50,100,200,500]\n",
        "depths = [1,2,5,10,20,30]\n",
        "for i in range(0,len(depths)-1):\n",
        "  for j in range(0,len(n_estimators)-1):\n",
        "    tree_regressor = RandomForestRegressor(max_depth=depths[i], n_estimators = n_estimators[j]) # # here we just change parameter 'max_depth'\n",
        "    tree_regressor.fit(X_train, y_train)\n",
        "    y_pred_tree = tree_regressor.predict(X_test)\n",
        "    # evaluation - smaller is better\n",
        "    tree_mse = mean_squared_error(y_test, y_pred_tree)\n",
        "    if best_t is None or best_t > tree_mse:\n",
        "      best_t = tree_mse\n",
        "print('best tree mse',best_t)\n"
      ]
    },
    {
      "cell_type": "code",
      "execution_count": null,
      "metadata": {
        "id": "THBRI-ph2r8k"
      },
      "outputs": [],
      "source": [
        "best_t = None\n",
        "#n_estimators = [10,20,50,100,200,500]\n",
        "#depths = [1,2,5,10,20,30]\n",
        "for i in range(1,100):\n",
        "  for j in range(1,20):\n",
        "    tree_regressor = RandomForestRegressor(max_depth=i, n_estimators = j) # # here we just change parameter 'max_depth'\n",
        "    tree_regressor.fit(X_train, y_train)\n",
        "    y_pred_tree = tree_regressor.predict(X_test)\n",
        "    # evaluation - smaller is better\n",
        "    tree_mse = mean_squared_error(y_test, y_pred_tree)\n",
        "    if best_t is None or best_t > tree_mse:\n",
        "      best_t = tree_mse\n",
        "print('best tree mse',best_t)"
      ]
    },
    {
      "cell_type": "markdown",
      "metadata": {
        "id": "sbY7hCtwkxCD"
      },
      "source": [
        "# Appedning - Part 2 - Descriptive statistics and visualizations (for your reference; not covered during exercise)\n",
        "This part of the appendix gives you an example of visualization and descriptive statistics. It is not covered during the exercise, but you may explore and reuse the code during the course."
      ]
    },
    {
      "cell_type": "markdown",
      "metadata": {
        "id": "DAnPiOjE3YJH"
      },
      "source": [
        "Loading additional dataset"
      ]
    },
    {
      "cell_type": "code",
      "execution_count": null,
      "metadata": {
        "id": "emjNJOkS3WNr"
      },
      "outputs": [],
      "source": [
        "df = pd.read_parquet('NY_taxi_2017Mar_09-11.parquet', engine='fastparquet')"
      ]
    },
    {
      "cell_type": "code",
      "execution_count": null,
      "metadata": {
        "id": "5q2DyOmekswi"
      },
      "outputs": [],
      "source": [
        "col_of_interest = ['passenger_count', 'trip_distance', 'fare_amount', 'tip_amount', 'total_amount']\n",
        "desc_stat_com = df[col_of_interest].describe()\n",
        "desc_stat_com = desc_stat_com.round(2)   # keep 2 decimals of the float value\n",
        "desc_stat_com.head(5)  # show the first 5 line of data"
      ]
    },
    {
      "cell_type": "markdown",
      "metadata": {
        "id": "ee4uoLjAlDuo"
      },
      "source": [
        "### Visualization"
      ]
    },
    {
      "cell_type": "markdown",
      "metadata": {
        "id": "6yf_SA3953cs"
      },
      "source": [
        "Line plot"
      ]
    },
    {
      "cell_type": "code",
      "execution_count": null,
      "metadata": {
        "id": "9bNO28MUlG8E"
      },
      "outputs": [],
      "source": [
        "plt.style.use('ggplot')  # set visualization style\n",
        "df['hour'] = pd.to_datetime(df.tpep_pickup_datetime).dt.hour\n",
        "# get the sum number of each column by hour\n",
        "df_hour_sum = df.groupby(['hour']).sum()  # refer to https://pandas.pydata.org/pandas-docs/stable/reference/api/pandas.DataFrame.groupby.html\n",
        "df_hour_sum.plot(y=['trip_distance'], kind='line', figsize=(12, 9), legend=True)"
      ]
    },
    {
      "cell_type": "markdown",
      "metadata": {
        "id": "a3Iktu6T5zds"
      },
      "source": [
        "Histogram"
      ]
    },
    {
      "cell_type": "code",
      "execution_count": null,
      "metadata": {
        "id": "GMahUIinlRKj"
      },
      "outputs": [],
      "source": [
        "df_hour_sum.hist(column=['trip_distance'], figsize=(12, 9), legend=True, bins=20)"
      ]
    },
    {
      "cell_type": "markdown",
      "metadata": {
        "id": "4324TApu56E2"
      },
      "source": [
        "Box plot"
      ]
    },
    {
      "cell_type": "code",
      "execution_count": null,
      "metadata": {
        "id": "V6bLT5H0lTIS"
      },
      "outputs": [],
      "source": [
        "df.boxplot(column='passenger_count', by='date', showfliers=True, figsize=(8, 6))"
      ]
    },
    {
      "cell_type": "markdown",
      "metadata": {
        "id": "3hksHkfmlliY"
      },
      "source": [
        "### Spatial visualization"
      ]
    },
    {
      "cell_type": "code",
      "execution_count": null,
      "metadata": {
        "id": "MTL0BAysljTK"
      },
      "outputs": [],
      "source": [
        "# refer to https://medium.com/@haonanzhong/new-york-city-taxi-data-analysis-286e08b174a1\n",
        "# Read in the taxi zone shapefile\n",
        "import geopandas as gpd\n",
        "import matplotlib.colors as colors\n",
        "\n",
        "sf = gpd.read_file('taxi_zones.shp')\n",
        "sf.head()"
      ]
    },
    {
      "cell_type": "code",
      "execution_count": null,
      "metadata": {
        "id": "n5ICIeILltjZ"
      },
      "outputs": [],
      "source": [
        "# Compute pickup and dropoff amount of each zone\n",
        "pu_zone = df.groupby(['PULocationID'], as_index=False).size()  # refer to https://favtutor.com/blogs/pandas-groupby-count\n",
        "do_zone = df.groupby(['DOLocationID'], as_index=False).size()\n",
        "pu_zone = gpd.GeoDataFrame(pd.merge(pu_zone, sf, left_on='PULocationID', right_on='LocationID')).drop('LocationID', axis=1)\n",
        "do_zone = gpd.GeoDataFrame(pd.merge(do_zone, sf, left_on='DOLocationID', right_on='LocationID')).drop('LocationID', axis=1)"
      ]
    },
    {
      "cell_type": "code",
      "execution_count": null,
      "metadata": {
        "id": "x6SumBfAlyq9"
      },
      "outputs": [],
      "source": [
        "# plot geospatial visualisation to compare pickup and dropoff amount from each zone\n",
        "fig, axs = plt.subplots(ncols=2, figsize=(20, 10))\n",
        "fig.subplots_adjust(bottom=0.1, top=0.9, left=0.09, right=0.8, wspace=0.02, hspace=0.02)\n",
        "# create a normalized colorbar\n",
        "vmin, vmax = pu_zone['size'].min(), pu_zone['size'].max()\n",
        "axs[0] = pu_zone.plot(column='size', linewidth=0.09, edgecolor='k', figsize=(10, 10), norm=colors.LogNorm(vmin=vmin, vmax=vmax), cmap='Reds', legend=False, ax=axs[0])\n",
        "#ctx.add_basemap(axs[0])\n",
        "vmin, vmax = do_zone['size'].min(), do_zone['size'].max()\n",
        "axs[1] = do_zone.plot(column='size', linewidth=0.1, edgecolor='k', figsize=(10, 10),\n",
        "    norm=colors.LogNorm(vmin=vmin, vmax=vmax), cmap='Reds', legend=False, ax=axs[1])\n",
        "#ctx.add_basemap(axs[1])\n",
        "axs[0].set_title('Pickup')\n",
        "axs[1].set_title('Dropoff')\n",
        "axs[0].set_axis_off()\n",
        "axs[1].set_axis_off()\n",
        "# draw the color bar\n",
        "patch_col = axs[0].collections[0]\n",
        "cb = fig.colorbar(patch_col, ax=axs, shrink=0.72, orientation=\"vertical\", pad=0.005)\n",
        "cb.ax.set_ylabel('Trip Amount')\n",
        "plt.show()"
      ]
    }
  ],
  "metadata": {
    "colab": {
      "collapsed_sections": [
        "sbY7hCtwkxCD"
      ],
      "provenance": []
    },
    "kernelspec": {
      "display_name": "Python 3",
      "name": "python3"
    },
    "language_info": {
      "codemirror_mode": {
        "name": "ipython",
        "version": 3
      },
      "file_extension": ".py",
      "mimetype": "text/x-python",
      "name": "python",
      "nbconvert_exporter": "python",
      "pygments_lexer": "ipython3",
      "version": "3.12.4"
    }
  },
  "nbformat": 4,
  "nbformat_minor": 0
}